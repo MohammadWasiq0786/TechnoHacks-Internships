{
 "cells": [
  {
   "cell_type": "markdown",
   "id": "8a440e80",
   "metadata": {},
   "source": [
    "# Stock Market Prediction\n",
    "\n",
    "## Mohammad Wasiq"
   ]
  },
  {
   "cell_type": "markdown",
   "id": "87195a96",
   "metadata": {
    "papermill": {
     "duration": 0.009153,
     "end_time": "2023-05-28T12:38:28.200888",
     "exception": false,
     "start_time": "2023-05-28T12:38:28.191735",
     "status": "completed"
    },
    "tags": []
   },
   "source": [
    "# Stock Prices Prediction Using LSTM:\n",
    "\n",
    "This case study/project is used to predict the stock prices using LSTM (long short term memory). LSTM is a variety of recurrent neural networks (RNNs) that are capable of learning long-term dependencies, especially in sequence prediction problems.\n",
    "\n",
    "* Steps to be done:\n",
    "\n",
    "1. We will collect the Stock Data \n",
    "2. Pre-process the Data \n",
    "3. Create an stacked LSTM model\n",
    "4. Predict the test data and plot the output\n",
    "5. Predict the future and plot the output\n",
    "\n"
   ]
  },
  {
   "cell_type": "code",
   "execution_count": 1,
   "id": "a6e8a088",
   "metadata": {
    "execution": {
     "iopub.execute_input": "2023-05-28T12:38:28.217550Z",
     "iopub.status.busy": "2023-05-28T12:38:28.216902Z",
     "iopub.status.idle": "2023-05-28T12:38:39.714041Z",
     "shell.execute_reply": "2023-05-28T12:38:39.712616Z"
    },
    "papermill": {
     "duration": 11.509548,
     "end_time": "2023-05-28T12:38:39.717734",
     "exception": false,
     "start_time": "2023-05-28T12:38:28.208186",
     "status": "completed"
    },
    "tags": []
   },
   "outputs": [],
   "source": [
    "import numpy as np\n",
    "import pandas as pd\n",
    "\n",
    "import os\n",
    "import matplotlib.pyplot as plt\n",
    "import pandas_datareader as web\n",
    "import datetime as dt\n",
    "\n",
    "from sklearn.preprocessing import MinMaxScaler\n",
    "from tensorflow.keras.models import Sequential\n",
    "from tensorflow.keras.layers import Dense, Dropout, LSTM\n",
    "from tensorflow.keras.callbacks import ModelCheckpoint, EarlyStopping"
   ]
  },
  {
   "cell_type": "markdown",
   "id": "da7a875b",
   "metadata": {
    "papermill": {
     "duration": 0.006489,
     "end_time": "2023-05-28T12:38:39.731767",
     "exception": false,
     "start_time": "2023-05-28T12:38:39.725278",
     "status": "completed"
    },
    "tags": []
   },
   "source": [
    "## A. Pre-processing:\n",
    "\n",
    "We will load the data for the specified company and date range which includes company stock symbol, starting/ending date for the data.\n",
    "\n",
    "    :param company: The company's stock symbol (str)\n",
    "    :param start: The starting date for the data range (str or datetime)\n",
    "    :param end: The ending date for the data range (str or datetime)\n",
    "    :return: A dataframe containing the relevant stock data (pandas.DataFrame)"
   ]
  },
  {
   "cell_type": "code",
   "execution_count": 2,
   "id": "85d5e4d6",
   "metadata": {
    "execution": {
     "iopub.execute_input": "2023-05-28T12:38:39.748267Z",
     "iopub.status.busy": "2023-05-28T12:38:39.747270Z",
     "iopub.status.idle": "2023-05-28T12:38:40.038708Z",
     "shell.execute_reply": "2023-05-28T12:38:40.037053Z"
    },
    "papermill": {
     "duration": 0.303799,
     "end_time": "2023-05-28T12:38:40.042390",
     "exception": false,
     "start_time": "2023-05-28T12:38:39.738591",
     "status": "completed"
    },
    "tags": []
   },
   "outputs": [],
   "source": [
    "# Load csv\n",
    "df = pd.read_csv('../input/cac40-stocks-dataset/preprocessed_CAC40.csv', parse_dates=['Date'])"
   ]
  },
  {
   "cell_type": "code",
   "execution_count": 3,
   "id": "3bf96c91",
   "metadata": {
    "execution": {
     "iopub.execute_input": "2023-05-28T12:38:40.059545Z",
     "iopub.status.busy": "2023-05-28T12:38:40.058582Z",
     "iopub.status.idle": "2023-05-28T12:38:40.067340Z",
     "shell.execute_reply": "2023-05-28T12:38:40.066020Z"
    },
    "papermill": {
     "duration": 0.020898,
     "end_time": "2023-05-28T12:38:40.070398",
     "exception": false,
     "start_time": "2023-05-28T12:38:40.049500",
     "status": "completed"
    },
    "tags": []
   },
   "outputs": [],
   "source": [
    "def load_data(company, start, end):\n",
    "    \n",
    "    dataframe = df.copy()\n",
    "    dataframe = dataframe.loc[dataframe.Name == company, :]\n",
    "    dataframe = dataframe.loc[(dataframe['Date'] > start) & (dataframe['Date'] < end), :]\n",
    "    dataframe = dataframe.rename(columns = {'Closing_Price': 'Close'})\n",
    "    return dataframe"
   ]
  },
  {
   "cell_type": "code",
   "execution_count": 4,
   "id": "1056dc7a",
   "metadata": {
    "execution": {
     "iopub.execute_input": "2023-05-28T12:38:40.087409Z",
     "iopub.status.busy": "2023-05-28T12:38:40.086045Z",
     "iopub.status.idle": "2023-05-28T12:38:40.093717Z",
     "shell.execute_reply": "2023-05-28T12:38:40.092434Z"
    },
    "papermill": {
     "duration": 0.019512,
     "end_time": "2023-05-28T12:38:40.096860",
     "exception": false,
     "start_time": "2023-05-28T12:38:40.077348",
     "status": "completed"
    },
    "tags": []
   },
   "outputs": [],
   "source": [
    "COMPANY = 'Accor'\n",
    "START_DATE = dt.datetime(2015,1,1)\n",
    "END_DATE = dt.datetime(2020,1,1)\n",
    "\n",
    "START_DATE_TEST = END_DATE"
   ]
  },
  {
   "cell_type": "code",
   "execution_count": 5,
   "id": "64ea0306",
   "metadata": {
    "execution": {
     "iopub.execute_input": "2023-05-28T12:38:40.113552Z",
     "iopub.status.busy": "2023-05-28T12:38:40.113068Z",
     "iopub.status.idle": "2023-05-28T12:38:40.159406Z",
     "shell.execute_reply": "2023-05-28T12:38:40.157915Z"
    },
    "papermill": {
     "duration": 0.058713,
     "end_time": "2023-05-28T12:38:40.162821",
     "exception": false,
     "start_time": "2023-05-28T12:38:40.104108",
     "status": "completed"
    },
    "tags": []
   },
   "outputs": [],
   "source": [
    "data = load_data(company = COMPANY,\n",
    "                 start = START_DATE,\n",
    "                 end = END_DATE)"
   ]
  },
  {
   "cell_type": "code",
   "execution_count": 6,
   "id": "9a4d7eba",
   "metadata": {
    "execution": {
     "iopub.execute_input": "2023-05-28T12:38:40.180747Z",
     "iopub.status.busy": "2023-05-28T12:38:40.179787Z",
     "iopub.status.idle": "2023-05-28T12:38:40.188653Z",
     "shell.execute_reply": "2023-05-28T12:38:40.187015Z"
    },
    "papermill": {
     "duration": 0.02151,
     "end_time": "2023-05-28T12:38:40.191643",
     "exception": false,
     "start_time": "2023-05-28T12:38:40.170133",
     "status": "completed"
    },
    "tags": []
   },
   "outputs": [],
   "source": [
    "# Normalize data\n",
    "scaler = MinMaxScaler(feature_range=(0,1))\n",
    "scaled_data = scaler.fit_transform(data['Close'].values.reshape(-1,1))"
   ]
  },
  {
   "cell_type": "code",
   "execution_count": 7,
   "id": "e5ed0266",
   "metadata": {
    "execution": {
     "iopub.execute_input": "2023-05-28T12:38:40.208482Z",
     "iopub.status.busy": "2023-05-28T12:38:40.207947Z",
     "iopub.status.idle": "2023-05-28T12:38:40.220753Z",
     "shell.execute_reply": "2023-05-28T12:38:40.219381Z"
    },
    "papermill": {
     "duration": 0.024508,
     "end_time": "2023-05-28T12:38:40.223527",
     "exception": false,
     "start_time": "2023-05-28T12:38:40.199019",
     "status": "completed"
    },
    "tags": []
   },
   "outputs": [],
   "source": [
    "# Set the number of days used for prediction\n",
    "prediction_days = 60\n",
    "\n",
    "# Initialize empty lists for training data input and output\n",
    "x_train = []\n",
    "y_train = []\n",
    "\n",
    "# Iterate through the scaled data, starting from the prediction_days index\n",
    "for x in range(prediction_days, len(scaled_data)):\n",
    "    # Append the previous 'prediction_days' values to x_train\n",
    "    x_train.append(scaled_data[x - prediction_days:x, 0])\n",
    "    # Append the current value to y_train\n",
    "    y_train.append(scaled_data[x, 0])\n",
    "\n",
    "# Convert the x_train and y_train lists to numpy arrays\n",
    "x_train, y_train = np.array(x_train), np.array(y_train)\n",
    "\n",
    "# Reshape x_train to a 3D array with the appropriate dimensions for the LSTM model\n",
    "x_train = np.reshape(x_train, (x_train.shape[0], x_train.shape[1], 1))"
   ]
  },
  {
   "cell_type": "markdown",
   "id": "50c3f7c9",
   "metadata": {
    "papermill": {
     "duration": 0.007516,
     "end_time": "2023-05-28T12:38:40.238558",
     "exception": false,
     "start_time": "2023-05-28T12:38:40.231042",
     "status": "completed"
    },
    "tags": []
   },
   "source": [
    "## B. LSTM Model:\n",
    "\n",
    "What is a LSTM ?\n",
    "\n",
    "Long Short Term Memory networks – usually just called “LSTMs” – are a special kind of RNN, capable of learning long-term dependencies. Introduced by Hochreiter & Schmidhuber (1997), and were refined and popularized by many people in following work. They work tremendously well on a large variety of problems, and are now widely used.\n",
    "\n",
    "LSTMs are explicitly designed to avoid the long-term dependency problem. Remembering information for long periods of time is practically their default behavior, not something they struggle to learn!\n",
    "\n",
    "All recurrent neural networks have the form of a chain of repeating modules of neural network."
   ]
  },
  {
   "cell_type": "code",
   "execution_count": 8,
   "id": "47546e8a",
   "metadata": {
    "execution": {
     "iopub.execute_input": "2023-05-28T12:38:40.256181Z",
     "iopub.status.busy": "2023-05-28T12:38:40.255648Z",
     "iopub.status.idle": "2023-05-28T12:38:40.267810Z",
     "shell.execute_reply": "2023-05-28T12:38:40.265819Z"
    },
    "papermill": {
     "duration": 0.024696,
     "end_time": "2023-05-28T12:38:40.270767",
     "exception": false,
     "start_time": "2023-05-28T12:38:40.246071",
     "status": "completed"
    },
    "tags": []
   },
   "outputs": [],
   "source": [
    "def LSTM_model():\n",
    "    \"\"\"\n",
    "    Create and configure an LSTM model for stock price prediction.\n",
    "\n",
    "    :return: The configured LSTM model (keras.Sequential)\n",
    "    \"\"\"\n",
    "\n",
    "    # Initialize a sequential model\n",
    "    model = Sequential()\n",
    "\n",
    "    # Add the first LSTM layer with 50 units, input shape, and return sequences\n",
    "    model.add(LSTM(units=50, return_sequences=True, input_shape=(x_train.shape[1], 1)))\n",
    "    # Add dropout to prevent overfitting\n",
    "    model.add(Dropout(0.2))\n",
    "\n",
    "    # Add a second LSTM layer with 50 units and return sequences\n",
    "    model.add(LSTM(units=50, return_sequences=True))\n",
    "    # Add dropout to prevent overfitting\n",
    "    model.add(Dropout(0.2))\n",
    "    \n",
    "    # Add a third LSTM layer with 50 units\n",
    "    model.add(LSTM(units=50))\n",
    "    # Add dropout to prevent overfitting\n",
    "    model.add(Dropout(0.2))\n",
    "\n",
    "    # Add a dense output layer with one unit\n",
    "    model.add(Dense(units=1))\n",
    "\n",
    "    return model"
   ]
  },
  {
   "cell_type": "markdown",
   "id": "0061c68e",
   "metadata": {
    "papermill": {
     "duration": 0.007023,
     "end_time": "2023-05-28T12:38:40.285337",
     "exception": false,
     "start_time": "2023-05-28T12:38:40.278314",
     "status": "completed"
    },
    "tags": []
   },
   "source": [
    "## C. Training LSTM model:\n",
    "\n",
    "In this section we will train LSTM model."
   ]
  },
  {
   "cell_type": "code",
   "execution_count": 9,
   "id": "0a093292",
   "metadata": {
    "execution": {
     "iopub.execute_input": "2023-05-28T12:38:40.302806Z",
     "iopub.status.busy": "2023-05-28T12:38:40.301845Z",
     "iopub.status.idle": "2023-05-28T12:38:41.924169Z",
     "shell.execute_reply": "2023-05-28T12:38:41.922719Z"
    },
    "papermill": {
     "duration": 1.634751,
     "end_time": "2023-05-28T12:38:41.927498",
     "exception": false,
     "start_time": "2023-05-28T12:38:40.292747",
     "status": "completed"
    },
    "tags": []
   },
   "outputs": [
    {
     "name": "stdout",
     "output_type": "stream",
     "text": [
      "Model: \"sequential\"\n",
      "_________________________________________________________________\n",
      " Layer (type)                Output Shape              Param #   \n",
      "=================================================================\n",
      " lstm (LSTM)                 (None, 60, 50)            10400     \n",
      "                                                                 \n",
      " dropout (Dropout)           (None, 60, 50)            0         \n",
      "                                                                 \n",
      " lstm_1 (LSTM)               (None, 60, 50)            20200     \n",
      "                                                                 \n",
      " dropout_1 (Dropout)         (None, 60, 50)            0         \n",
      "                                                                 \n",
      " lstm_2 (LSTM)               (None, 50)                20200     \n",
      "                                                                 \n",
      " dropout_2 (Dropout)         (None, 50)                0         \n",
      "                                                                 \n",
      " dense (Dense)               (None, 1)                 51        \n",
      "                                                                 \n",
      "=================================================================\n",
      "Total params: 50,851\n",
      "Trainable params: 50,851\n",
      "Non-trainable params: 0\n",
      "_________________________________________________________________\n"
     ]
    }
   ],
   "source": [
    "model = LSTM_model()\n",
    "model.summary()\n",
    "model.compile(\n",
    "    optimizer='adam', \n",
    "    loss='mean_squared_error'\n",
    ")"
   ]
  },
  {
   "cell_type": "code",
   "execution_count": 10,
   "id": "e233d8f9",
   "metadata": {
    "execution": {
     "iopub.execute_input": "2023-05-28T12:38:41.948798Z",
     "iopub.status.busy": "2023-05-28T12:38:41.948266Z",
     "iopub.status.idle": "2023-05-28T12:41:10.430714Z",
     "shell.execute_reply": "2023-05-28T12:41:10.429258Z"
    },
    "papermill": {
     "duration": 148.595934,
     "end_time": "2023-05-28T12:41:10.532933",
     "exception": false,
     "start_time": "2023-05-28T12:38:41.936999",
     "status": "completed"
    },
    "tags": []
   },
   "outputs": [
    {
     "name": "stdout",
     "output_type": "stream",
     "text": [
      "Epoch 1/25\n",
      "38/38 [==============================] - 11s 90ms/step - loss: 0.0495\n",
      "Epoch 2/25\n",
      "38/38 [==============================] - 4s 93ms/step - loss: 0.0114\n",
      "Epoch 3/25\n",
      "38/38 [==============================] - 3s 91ms/step - loss: 0.0094\n",
      "Epoch 4/25\n",
      "38/38 [==============================] - 3s 91ms/step - loss: 0.0091\n",
      "Epoch 5/25\n",
      "38/38 [==============================] - 4s 99ms/step - loss: 0.0094\n",
      "Epoch 6/25\n",
      "38/38 [==============================] - 4s 93ms/step - loss: 0.0077\n",
      "Epoch 7/25\n",
      "38/38 [==============================] - 4s 94ms/step - loss: 0.0077\n",
      "Epoch 8/25\n",
      "38/38 [==============================] - 4s 94ms/step - loss: 0.0075\n",
      "Epoch 9/25\n",
      "38/38 [==============================] - 4s 94ms/step - loss: 0.0071\n",
      "Epoch 10/25\n",
      "38/38 [==============================] - 3s 92ms/step - loss: 0.0071\n",
      "Epoch 11/25\n",
      "38/38 [==============================] - 4s 93ms/step - loss: 0.0071\n",
      "Epoch 12/25\n",
      "38/38 [==============================] - 4s 94ms/step - loss: 0.0067\n",
      "Epoch 13/25\n",
      "38/38 [==============================] - 4s 96ms/step - loss: 0.0069\n",
      "Epoch 14/25\n",
      "38/38 [==============================] - 4s 96ms/step - loss: 0.0062\n",
      "Epoch 15/25\n",
      "38/38 [==============================] - 4s 93ms/step - loss: 0.0062\n",
      "Epoch 16/25\n",
      "38/38 [==============================] - 3s 92ms/step - loss: 0.0058\n",
      "Epoch 17/25\n",
      "38/38 [==============================] - 4s 93ms/step - loss: 0.0056\n",
      "Epoch 18/25\n",
      "38/38 [==============================] - 4s 93ms/step - loss: 0.0055\n",
      "Epoch 19/25\n",
      "38/38 [==============================] - 4s 93ms/step - loss: 0.0058\n",
      "Epoch 20/25\n",
      "38/38 [==============================] - 4s 93ms/step - loss: 0.0053\n",
      "Epoch 21/25\n",
      "38/38 [==============================] - 4s 93ms/step - loss: 0.0049\n",
      "Epoch 22/25\n",
      "38/38 [==============================] - 4s 97ms/step - loss: 0.0049\n",
      "Epoch 23/25\n",
      "38/38 [==============================] - 4s 94ms/step - loss: 0.0050\n",
      "Epoch 24/25\n",
      "38/38 [==============================] - 4s 94ms/step - loss: 0.0053\n",
      "Epoch 25/25\n",
      "38/38 [==============================] - 3s 92ms/step - loss: 0.0047\n"
     ]
    },
    {
     "data": {
      "text/plain": [
       "<keras.callbacks.History at 0x7ad812f92410>"
      ]
     },
     "execution_count": 10,
     "metadata": {},
     "output_type": "execute_result"
    }
   ],
   "source": [
    "# Callbacks\n",
    "\n",
    "# Save weights only for best model\n",
    "checkpointer = ModelCheckpoint(\n",
    "    filepath = 'weights_best.hdf5', \n",
    "    verbose = 2, \n",
    "    save_best_only = True\n",
    ")\n",
    "\n",
    "model.fit(\n",
    "    x_train, \n",
    "    y_train, \n",
    "    epochs=25, \n",
    "    batch_size = 32,\n",
    "    callbacks = [checkpointer]\n",
    ")"
   ]
  },
  {
   "cell_type": "markdown",
   "id": "33ffe7bd",
   "metadata": {
    "papermill": {
     "duration": 0.100169,
     "end_time": "2023-05-28T12:41:10.734904",
     "exception": false,
     "start_time": "2023-05-28T12:41:10.634735",
     "status": "completed"
    },
    "tags": []
   },
   "source": [
    "## D. Inference:\n",
    "\n",
    "In this step we will load the test data for the specified company and date range. Followed by:\n",
    "\n",
    "* Extracting the actual closing prices from the test data.\n",
    "* Concatenating the training and test data along the 'Close' column.\n",
    "* Extracting the relevant portion of the dataset for model inputs.\n",
    "* Reshaping the model inputs to a 2D array with a single column.\n",
    "* Applying the same scaling used for training data to the model inputs.\n"
   ]
  },
  {
   "cell_type": "code",
   "execution_count": 11,
   "id": "549d9dd5",
   "metadata": {
    "execution": {
     "iopub.execute_input": "2023-05-28T12:41:10.937613Z",
     "iopub.status.busy": "2023-05-28T12:41:10.936385Z",
     "iopub.status.idle": "2023-05-28T12:41:10.972915Z",
     "shell.execute_reply": "2023-05-28T12:41:10.971559Z"
    },
    "papermill": {
     "duration": 0.141434,
     "end_time": "2023-05-28T12:41:10.976378",
     "exception": false,
     "start_time": "2023-05-28T12:41:10.834944",
     "status": "completed"
    },
    "tags": []
   },
   "outputs": [],
   "source": [
    "test_data = load_data(\n",
    "    company=COMPANY,\n",
    "    start=START_DATE_TEST,   # Load test data for the specified company and date range\n",
    "    end=dt.datetime.now()\n",
    ")\n",
    "\n",
    "actual_prices = test_data['Close'].values\n",
    "\n",
    "total_dataset = pd.concat((data['Close'], test_data['Close']), axis=0)\n",
    "\n",
    "model_inputs = total_dataset[len(total_dataset) - len(test_data) - prediction_days:].values\n",
    "\n",
    "model_inputs = model_inputs.reshape(-1, 1)\n",
    "\n",
    "model_inputs = scaler.transform(model_inputs)"
   ]
  },
  {
   "cell_type": "markdown",
   "id": "29e528c8",
   "metadata": {
    "papermill": {
     "duration": 0.098853,
     "end_time": "2023-05-28T12:41:11.178082",
     "exception": false,
     "start_time": "2023-05-28T12:41:11.079229",
     "status": "completed"
    },
    "tags": []
   },
   "source": [
    "* Next steps is to initilize an empty list for test data input, followed by iterating through the model inputs (starting from the prediction_days index) and appending the previous 'prediction_days' values to x_test, then, we will convert x_test list to a numpy array as well as reshaping x_test to a 3D array with the appropriate dimensions for the LSTM model. Going ahead, we will generate price predictions using the LSTM model and inverting the scaling applied to the predicted prices to obtain actual values."
   ]
  },
  {
   "cell_type": "code",
   "execution_count": 12,
   "id": "e7ff567f",
   "metadata": {
    "execution": {
     "iopub.execute_input": "2023-05-28T12:41:11.379659Z",
     "iopub.status.busy": "2023-05-28T12:41:11.379103Z",
     "iopub.status.idle": "2023-05-28T12:41:12.938518Z",
     "shell.execute_reply": "2023-05-28T12:41:12.936699Z"
    },
    "papermill": {
     "duration": 1.664508,
     "end_time": "2023-05-28T12:41:12.942071",
     "exception": false,
     "start_time": "2023-05-28T12:41:11.277563",
     "status": "completed"
    },
    "tags": []
   },
   "outputs": [
    {
     "name": "stdout",
     "output_type": "stream",
     "text": [
      "3/3 [==============================] - 1s 21ms/step\n"
     ]
    }
   ],
   "source": [
    "x_test = []\n",
    "\n",
    "for x in range(prediction_days, len(model_inputs)):\n",
    "    \n",
    "    x_test.append(model_inputs[x-prediction_days:x, 0])\n",
    "\n",
    "x_test = np.array(x_test)  # Converting the x_test list to a numpy array\n",
    " \n",
    "x_test = np.reshape(x_test, (x_test.shape[0], x_test.shape[1], 1))\n",
    "\n",
    "predicted_prices = model.predict(x_test)  # Generate price predictions using the LSTM model\n",
    "\n",
    "predicted_prices = scaler.inverse_transform(predicted_prices)"
   ]
  },
  {
   "cell_type": "markdown",
   "id": "146bcde7",
   "metadata": {
    "papermill": {
     "duration": 0.100294,
     "end_time": "2023-05-28T12:41:13.142543",
     "exception": false,
     "start_time": "2023-05-28T12:41:13.042249",
     "status": "completed"
    },
    "tags": []
   },
   "source": [
    "* Data visualization:\n",
    "  \n",
    "  1. Plotting the Actual prices using a black line.\n",
    "  2. Plotting the predicted prices using a green line.\n",
    "  3. Set the title of the plot using the company name, name the x-axis as 'time' and, y-axis is the company's name.\n",
    "  4. Display the plot on the screen and a legend to differentiate between the actual and predicted prices.\n",
    "  "
   ]
  },
  {
   "cell_type": "code",
   "execution_count": 13,
   "id": "e5480045",
   "metadata": {
    "execution": {
     "iopub.execute_input": "2023-05-28T12:41:13.348037Z",
     "iopub.status.busy": "2023-05-28T12:41:13.347500Z",
     "iopub.status.idle": "2023-05-28T12:41:13.672807Z",
     "shell.execute_reply": "2023-05-28T12:41:13.670841Z"
    },
    "papermill": {
     "duration": 0.431462,
     "end_time": "2023-05-28T12:41:13.676496",
     "exception": false,
     "start_time": "2023-05-28T12:41:13.245034",
     "status": "completed"
    },
    "tags": []
   },
   "outputs": [
    {
     "data": {
      "image/png": "[encoded data removed]",
      "text/plain": [
       "<Figure size 640x480 with 1 Axes>"
      ]
     },
     "metadata": {},
     "output_type": "display_data"
    }
   ],
   "source": [
    "plt.plot(actual_prices, color='black', label=f\"Actual {COMPANY} price\") #1\n",
    "\n",
    "plt.plot(predicted_prices, color='green', label=f\"Predicted {COMPANY} price\") #2\n",
    "\n",
    "plt.title(f\"{COMPANY} share price\")\n",
    "plt.xlabel(\"time\")                    #3\n",
    "plt.ylabel(f\"{COMPANY} share price\")\n",
    "\n",
    "plt.legend()    #4\n",
    "plt.show()"
   ]
  },
  {
   "cell_type": "code",
   "execution_count": 14,
   "id": "5353074b",
   "metadata": {
    "execution": {
     "iopub.execute_input": "2023-05-28T12:41:13.883073Z",
     "iopub.status.busy": "2023-05-28T12:41:13.881548Z",
     "iopub.status.idle": "2023-05-28T12:41:15.351005Z",
     "shell.execute_reply": "2023-05-28T12:41:15.349176Z"
    },
    "papermill": {
     "duration": 1.576389,
     "end_time": "2023-05-28T12:41:15.354111",
     "exception": false,
     "start_time": "2023-05-28T12:41:13.777722",
     "status": "completed"
    },
    "tags": []
   },
   "outputs": [
    {
     "name": "stdout",
     "output_type": "stream",
     "text": [
      "1/1 [==============================] - 1s 1s/step\n",
      "Prediction: 40.519203186035156\n"
     ]
    }
   ],
   "source": [
    "# Extract the last 'prediction_days' values from the model inputs\n",
    "real_data = [model_inputs[len(model_inputs) + 1 - prediction_days:len(model_inputs + 1), 0]]\n",
    "\n",
    "# Convert the real_data list to a numpy array\n",
    "real_data = np.array(real_data)\n",
    "\n",
    "# Reshape real_data to a 3D array with the appropriate dimensions for the LSTM model\n",
    "real_data = np.reshape(real_data, (real_data.shape[0], real_data.shape[1], 1))\n",
    "\n",
    "# Generate a prediction using the LSTM model with the real_data input\n",
    "prediction = model.predict(real_data)\n",
    "\n",
    "# Invert the scaling applied to the prediction to obtain the actual value\n",
    "prediction = scaler.inverse_transform(prediction)\n",
    "\n",
    "# Print the prediction result to the console\n",
    "print(f\"Prediction: {prediction[0][0]}\")"
   ]
  },
  {
   "cell_type": "markdown",
   "id": "790b5132",
   "metadata": {
    "papermill": {
     "duration": 0.101775,
     "end_time": "2023-05-28T12:41:15.560205",
     "exception": false,
     "start_time": "2023-05-28T12:41:15.458430",
     "status": "completed"
    },
    "tags": []
   },
   "source": [
    "## 5. References:\n",
    "\n",
    "* Used the datasets mentioned below:\n",
    "    1. CAC40 Dataset\n",
    "    2. S&P 500 stock data \n",
    "    3. NSE Stocks Data\n",
    "    4. Huge Stock Market Dataset\n",
    "    5. ibovespa-stocks\n",
    "\n",
    "For more information on LSTM model: [LSTM model](https://www.geeksforgeeks.org/long-short-term-memory-networks-explanation/)"
   ]
  }
 ],
 "metadata": {
  "kernelspec": {
   "display_name": "Python 3 (ipykernel)",
   "language": "python",
   "name": "python3"
  },
  "language_info": {
   "codemirror_mode": {
    "name": "ipython",
    "version": 3
   },
   "file_extension": ".py",
   "mimetype": "text/x-python",
   "name": "python",
   "nbconvert_exporter": "python",
   "pygments_lexer": "ipython3",
   "version": "3.9.12"
  },
  "latex_envs": {
   "LaTeX_envs_menu_present": true,
   "autoclose": false,
   "autocomplete": true,
   "bibliofile": "biblio.bib",
   "cite_by": "apalike",
   "current_citInitial": 1,
   "eqLabelWithNumbers": true,
   "eqNumInitial": 1,
   "hotkeys": {
    "equation": "Ctrl-E",
    "itemize": "Ctrl-I"
   },
   "labels_anchors": false,
   "latex_user_defs": false,
   "report_style_numbering": false,
   "user_envs_cfg": false
  },
  "nbTranslate": {
   "displayLangs": [
    "*"
   ],
   "hotkey": "alt-t",
   "langInMainMenu": true,
   "sourceLang": "en",
   "targetLang": "fr",
   "useGoogleTranslate": true
  },
  "papermill": {
   "default_parameters": {},
   "duration": 184.938387,
   "end_time": "2023-05-28T12:41:18.384777",
   "environment_variables": {},
   "exception": null,
   "input_path": "__notebook__.ipynb",
   "output_path": "__notebook__.ipynb",
   "parameters": {},
   "start_time": "2023-05-28T12:38:13.446390",
   "version": "2.4.0"
  },
  "toc": {
   "base_numbering": 1,
   "nav_menu": {},
   "number_sections": true,
   "sideBar": true,
   "skip_h1_title": false,
   "title_cell": "Table of Contents",
   "title_sidebar": "Contents",
   "toc_cell": false,
   "toc_position": {},
   "toc_section_display": true,
   "toc_window_display": false
  },
  "varInspector": {
   "cols": {
    "lenName": 16,
    "lenType": 16,
    "lenVar": 40
   },
   "kernels_config": {
    "python": {
     "delete_cmd_postfix": "",
     "delete_cmd_prefix": "del ",
     "library": "var_list.py",
     "varRefreshCmd": "print(var_dic_list())"
    },
    "r": {
     "delete_cmd_postfix": ") ",
     "delete_cmd_prefix": "rm(",
     "library": "var_list.r",
     "varRefreshCmd": "cat(var_dic_list()) "
    }
   },
   "types_to_exclude": [
    "module",
    "function",
    "builtin_function_or_method",
    "instance",
    "_Feature"
   ],
   "window_display": false
  }
 },
 "nbformat": 4,
 "nbformat_minor": 5
}
