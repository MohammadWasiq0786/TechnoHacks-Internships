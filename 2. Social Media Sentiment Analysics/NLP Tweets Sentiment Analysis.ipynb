{
 "cells": [
  {
   "cell_type": "markdown",
   "metadata": {},
   "source": [
    "# US Airline Tweets Sentiment Analysis\n",
    "\n",
    "<img  style=\"float: center;  border:5px solid #ffb037;\"  src=\"https://cdn.dribbble.com/users/846207/screenshots/7617197/media/e87a923768846bc12f00539d66e80931.gif\">"
   ]
  },
  {
   "cell_type": "markdown",
   "metadata": {},
   "source": [
    "# **The Objective**"
   ]
  },
  {
   "cell_type": "markdown",
   "metadata": {},
   "source": [
    "The goal of this work is to do sentiment analysis about the problems of each major U.S. airline based on twitter data. In this work, I will build classification model that can predict whether tweet is positive, negative, or neutral. I will use some algorithms (KNN, Logistic Regression, SVC, Naive Bayes, Decision Tree, Random Forest, Bagging, and Boosted Tree) and perform grid-search to find the best parameters for each algorithm."
   ]
  },
  {
   "cell_type": "markdown",
   "metadata": {},
   "source": [
    "# **The Dataset**"
   ]
  },
  {
   "cell_type": "markdown",
   "metadata": {},
   "source": [
    "The dataset used in this work is taken from https://www.kaggle.com/datasets/crowdflower/twitter-airline-sentiment?select=Tweets.csv.\n",
    "\n",
    "Import the library and dataset that will be used.\n"
   ]
  },
  {
   "cell_type": "code",
   "execution_count": 1,
   "metadata": {
    "execution": {
     "iopub.execute_input": "2023-01-13T06:02:28.166323Z",
     "iopub.status.busy": "2023-01-13T06:02:28.165873Z",
     "iopub.status.idle": "2023-01-13T06:02:29.193598Z",
     "shell.execute_reply": "2023-01-13T06:02:29.192320Z",
     "shell.execute_reply.started": "2023-01-13T06:02:28.166239Z"
    }
   },
   "outputs": [],
   "source": [
    "import pandas as pd\n",
    "import numpy as np\n",
    "import matplotlib.pyplot as plt\n",
    "import seaborn as sns\n",
    "import warnings\n",
    "warnings.filterwarnings(\"ignore\")"
   ]
  },
  {
   "cell_type": "code",
   "execution_count": 4,
   "metadata": {
    "execution": {
     "iopub.execute_input": "2023-01-13T06:02:34.960543Z",
     "iopub.status.busy": "2023-01-13T06:02:34.960175Z",
     "iopub.status.idle": "2023-01-13T06:02:35.099060Z",
     "shell.execute_reply": "2023-01-13T06:02:35.098289Z",
     "shell.execute_reply.started": "2023-01-13T06:02:34.960505Z"
    }
   },
   "outputs": [],
   "source": [
    "df = pd.read_csv('Tweets.csv')\n",
    "print(df.shape)\n",
    "df.head(2)"
   ]
  },
  {
   "cell_type": "code",
   "execution_count": 6,
   "metadata": {
    "execution": {
     "iopub.execute_input": "2023-01-13T06:02:35.945573Z",
     "iopub.status.busy": "2023-01-13T06:02:35.944460Z",
     "iopub.status.idle": "2023-01-13T06:02:35.977503Z",
     "shell.execute_reply": "2023-01-13T06:02:35.976482Z",
     "shell.execute_reply.started": "2023-01-13T06:02:35.945502Z"
    }
   },
   "outputs": [
    {
     "name": "stdout",
     "output_type": "stream",
     "text": [
      "<class 'pandas.core.frame.DataFrame'>\n",
      "RangeIndex: 14640 entries, 0 to 14639\n",
      "Data columns (total 15 columns):\n",
      " #   Column                        Non-Null Count  Dtype  \n",
      "---  ------                        --------------  -----  \n",
      " 0   tweet_id                      14640 non-null  int64  \n",
      " 1   airline_sentiment             14640 non-null  object \n",
      " 2   airline_sentiment_confidence  14640 non-null  float64\n",
      " 3   negativereason                9178 non-null   object \n",
      " 4   negativereason_confidence     10522 non-null  float64\n",
      " 5   airline                       14640 non-null  object \n",
      " 6   airline_sentiment_gold        40 non-null     object \n",
      " 7   name                          14640 non-null  object \n",
      " 8   negativereason_gold           32 non-null     object \n",
      " 9   retweet_count                 14640 non-null  int64  \n",
      " 10  text                          14640 non-null  object \n",
      " 11  tweet_coord                   1019 non-null   object \n",
      " 12  tweet_created                 14640 non-null  object \n",
      " 13  tweet_location                9907 non-null   object \n",
      " 14  user_timezone                 9820 non-null   object \n",
      "dtypes: float64(2), int64(2), object(11)\n",
      "memory usage: 1.7+ MB\n"
     ]
    }
   ],
   "source": [
    "df.info()"
   ]
  },
  {
   "cell_type": "code",
   "execution_count": null,
   "metadata": {},
   "outputs": [],
   "source": [
    "df.describe().T"
   ]
  },
  {
   "cell_type": "markdown",
   "metadata": {},
   "source": [
    "# **Exploratory Data Analysis**"
   ]
  },
  {
   "cell_type": "markdown",
   "metadata": {},
   "source": [
    "**Create a countplot to see the distribution of each sentiment type**"
   ]
  },
  {
   "cell_type": "code",
   "execution_count": null,
   "metadata": {},
   "outputs": [],
   "source": [
    "cprint(\"Total number of sentiments of tweets :\",'green')\n",
    "print(df.airline_sentiment.value_counts())"
   ]
  },
  {
   "cell_type": "code",
   "execution_count": 7,
   "metadata": {
    "execution": {
     "iopub.execute_input": "2023-01-13T06:02:37.550178Z",
     "iopub.status.busy": "2023-01-13T06:02:37.549771Z",
     "iopub.status.idle": "2023-01-13T06:02:37.742906Z",
     "shell.execute_reply": "2023-01-13T06:02:37.741729Z",
     "shell.execute_reply.started": "2023-01-13T06:02:37.550146Z"
    }
   },
   "outputs": [
    {
     "data": {
      "text/plain": [
       "<AxesSubplot:xlabel='airline_sentiment', ylabel='count'>"
      ]
     },
     "execution_count": 7,
     "metadata": {},
     "output_type": "execute_result"
    },
    {
     "data": {
      "image/png": "[encoded data removed]",
      "text/plain": [
       "<Figure size 720x540 with 1 Axes>"
      ]
     },
     "metadata": {
      "needs_background": "light"
     },
     "output_type": "display_data"
    }
   ],
   "source": [
    "plt.figure(figsize = (10, 8))\n",
    "ax = sns.countplot(x = 'airline_sentiment', data = df, palette = 'pastel')\n",
    "ax.set_title(label = 'Total number of sentiments of tweets', fontsize = 20)\n",
    "plt.show()"
   ]
  },
  {
   "cell_type": "code",
   "execution_count": 8,
   "metadata": {
    "execution": {
     "iopub.execute_input": "2023-01-13T06:02:38.222273Z",
     "iopub.status.busy": "2023-01-13T06:02:38.221694Z",
     "iopub.status.idle": "2023-01-13T06:02:38.231762Z",
     "shell.execute_reply": "2023-01-13T06:02:38.230473Z",
     "shell.execute_reply.started": "2023-01-13T06:02:38.222237Z"
    }
   },
   "outputs": [
    {
     "data": {
      "text/plain": [
       "negative    9178\n",
       "neutral     3099\n",
       "positive    2363\n",
       "Name: airline_sentiment, dtype: int64"
      ]
     },
     "execution_count": 8,
     "metadata": {},
     "output_type": "execute_result"
    }
   ],
   "source": [
    "cprint(\"Total number of tweets for each airline :\",'green')\n",
    "print(df.groupby('airline')['airline_sentiment'].count())"
   ]
  },
  {
   "cell_type": "markdown",
   "metadata": {},
   "source": [
    "From the graph above, we can see that the labels are imbalance with more than half of the tweets are negative."
   ]
  },
  {
   "cell_type": "markdown",
   "metadata": {},
   "source": [
    "**Sentiment for each airline**"
   ]
  },
  {
   "cell_type": "code",
   "execution_count": 9,
   "metadata": {
    "execution": {
     "iopub.execute_input": "2023-01-13T06:02:40.416942Z",
     "iopub.status.busy": "2023-01-13T06:02:40.416589Z",
     "iopub.status.idle": "2023-01-13T06:02:40.649925Z",
     "shell.execute_reply": "2023-01-13T06:02:40.649135Z",
     "shell.execute_reply.started": "2023-01-13T06:02:40.416914Z"
    },
    "scrolled": true
   },
   "outputs": [
    {
     "data": {
      "text/plain": [
       "<AxesSubplot:xlabel='airline', ylabel='count'>"
      ]
     },
     "execution_count": 9,
     "metadata": {},
     "output_type": "execute_result"
    },
    {
     "data": {
      "image/png": "[encoded data removed]",
      "text/plain": [
       "<Figure size 432x288 with 1 Axes>"
      ]
     },
     "metadata": {
      "needs_background": "light"
     },
     "output_type": "display_data"
    }
   ],
   "source": [
    "plt.figure(figsize = (10, 8))\n",
    "ax = sns.countplot(x = 'airline', data = df, palette = 'pastel')\n",
    "ax.set_title(label = 'Total number of tweets for each airline', fontsize = 20)\n",
    "plt.show()"
   ]
  },
  {
   "cell_type": "code",
   "execution_count": null,
   "metadata": {},
   "outputs": [],
   "source": [
    "cprint(\"Total number of sentiment tweets for each airline :\",'green')\n",
    "airlines= ['US Airways','United','American','Southwest','Delta','Virgin America']\n",
    "for i in airlines :\n",
    "    print('{} : \\n'.format(i),df.loc[df.airline == i].airline_sentiment.value_counts())"
   ]
  },
  {
   "cell_type": "markdown",
   "metadata": {},
   "source": [
    "United has the most negative sentiments, while Virgin America has the lowest.\n",
    "Let's look at percentage of the negative reviews for each airline."
   ]
  },
  {
   "cell_type": "code",
   "execution_count": 10,
   "metadata": {
    "execution": {
     "iopub.execute_input": "2023-01-13T06:02:41.229090Z",
     "iopub.status.busy": "2023-01-13T06:02:41.228701Z",
     "iopub.status.idle": "2023-01-13T06:02:41.238782Z",
     "shell.execute_reply": "2023-01-13T06:02:41.237962Z",
     "shell.execute_reply.started": "2023-01-13T06:02:41.229059Z"
    }
   },
   "outputs": [],
   "source": [
    "neg_review = df[df['airline_sentiment']=='negative']"
   ]
  },
  {
   "cell_type": "code",
   "execution_count": 11,
   "metadata": {
    "execution": {
     "iopub.execute_input": "2023-01-13T06:02:41.688361Z",
     "iopub.status.busy": "2023-01-13T06:02:41.687720Z",
     "iopub.status.idle": "2023-01-13T06:02:41.694931Z",
     "shell.execute_reply": "2023-01-13T06:02:41.693979Z",
     "shell.execute_reply.started": "2023-01-13T06:02:41.688318Z"
    }
   },
   "outputs": [
    {
     "data": {
      "text/plain": [
       "(9178, 15)"
      ]
     },
     "execution_count": 11,
     "metadata": {},
     "output_type": "execute_result"
    }
   ],
   "source": [
    "neg_review.shape"
   ]
  },
  {
   "cell_type": "code",
   "execution_count": 12,
   "metadata": {
    "execution": {
     "iopub.execute_input": "2023-01-13T06:02:42.076741Z",
     "iopub.status.busy": "2023-01-13T06:02:42.076365Z",
     "iopub.status.idle": "2023-01-13T06:02:42.087955Z",
     "shell.execute_reply": "2023-01-13T06:02:42.086212Z",
     "shell.execute_reply.started": "2023-01-13T06:02:42.076709Z"
    }
   },
   "outputs": [
    {
     "data": {
      "text/plain": [
       "array(['negative'], dtype=object)"
      ]
     },
     "execution_count": 12,
     "metadata": {},
     "output_type": "execute_result"
    }
   ],
   "source": [
    "neg_review['airline_sentiment'].unique()"
   ]
  },
  {
   "cell_type": "code",
   "execution_count": 13,
   "metadata": {
    "execution": {
     "iopub.execute_input": "2023-01-13T06:02:42.515085Z",
     "iopub.status.busy": "2023-01-13T06:02:42.514668Z",
     "iopub.status.idle": "2023-01-13T06:02:42.524227Z",
     "shell.execute_reply": "2023-01-13T06:02:42.522745Z",
     "shell.execute_reply.started": "2023-01-13T06:02:42.515048Z"
    }
   },
   "outputs": [],
   "source": [
    "total_neg = pd.DataFrame(neg_review.groupby('airline')['airline_sentiment'].count())"
   ]
  },
  {
   "cell_type": "code",
   "execution_count": 14,
   "metadata": {
    "execution": {
     "iopub.execute_input": "2023-01-13T06:02:42.957905Z",
     "iopub.status.busy": "2023-01-13T06:02:42.957575Z",
     "iopub.status.idle": "2023-01-13T06:02:42.962742Z",
     "shell.execute_reply": "2023-01-13T06:02:42.961900Z",
     "shell.execute_reply.started": "2023-01-13T06:02:42.957879Z"
    }
   },
   "outputs": [],
   "source": [
    "total_neg = total_neg.reset_index()"
   ]
  },
  {
   "cell_type": "code",
   "execution_count": 15,
   "metadata": {
    "execution": {
     "iopub.execute_input": "2023-01-13T06:02:43.379914Z",
     "iopub.status.busy": "2023-01-13T06:02:43.379555Z",
     "iopub.status.idle": "2023-01-13T06:02:43.391254Z",
     "shell.execute_reply": "2023-01-13T06:02:43.389637Z",
     "shell.execute_reply.started": "2023-01-13T06:02:43.379883Z"
    }
   },
   "outputs": [
    {
     "data": {
      "text/html": [
       "<div>\n",
       "<style scoped>\n",
       "    .dataframe tbody tr th:only-of-type {\n",
       "        vertical-align: middle;\n",
       "    }\n",
       "\n",
       "    .dataframe tbody tr th {\n",
       "        vertical-align: top;\n",
       "    }\n",
       "\n",
       "    .dataframe thead th {\n",
       "        text-align: right;\n",
       "    }\n",
       "</style>\n",
       "<table border=\"1\" class=\"dataframe\">\n",
       "  <thead>\n",
       "    <tr style=\"text-align: right;\">\n",
       "      <th></th>\n",
       "      <th>airline</th>\n",
       "      <th>airline_sentiment</th>\n",
       "    </tr>\n",
       "  </thead>\n",
       "  <tbody>\n",
       "    <tr>\n",
       "      <th>0</th>\n",
       "      <td>American</td>\n",
       "      <td>1960</td>\n",
       "    </tr>\n",
       "    <tr>\n",
       "      <th>1</th>\n",
       "      <td>Delta</td>\n",
       "      <td>955</td>\n",
       "    </tr>\n",
       "    <tr>\n",
       "      <th>2</th>\n",
       "      <td>Southwest</td>\n",
       "      <td>1186</td>\n",
       "    </tr>\n",
       "    <tr>\n",
       "      <th>3</th>\n",
       "      <td>US Airways</td>\n",
       "      <td>2263</td>\n",
       "    </tr>\n",
       "    <tr>\n",
       "      <th>4</th>\n",
       "      <td>United</td>\n",
       "      <td>2633</td>\n",
       "    </tr>\n",
       "    <tr>\n",
       "      <th>5</th>\n",
       "      <td>Virgin America</td>\n",
       "      <td>181</td>\n",
       "    </tr>\n",
       "  </tbody>\n",
       "</table>\n",
       "</div>"
      ],
      "text/plain": [
       "          airline  airline_sentiment\n",
       "0        American               1960\n",
       "1           Delta                955\n",
       "2       Southwest               1186\n",
       "3      US Airways               2263\n",
       "4          United               2633\n",
       "5  Virgin America                181"
      ]
     },
     "execution_count": 15,
     "metadata": {},
     "output_type": "execute_result"
    }
   ],
   "source": [
    "total_neg"
   ]
  },
  {
   "cell_type": "code",
   "execution_count": 16,
   "metadata": {
    "execution": {
     "iopub.execute_input": "2023-01-13T06:02:43.760902Z",
     "iopub.status.busy": "2023-01-13T06:02:43.759487Z",
     "iopub.status.idle": "2023-01-13T06:02:43.771012Z",
     "shell.execute_reply": "2023-01-13T06:02:43.769380Z",
     "shell.execute_reply.started": "2023-01-13T06:02:43.760851Z"
    }
   },
   "outputs": [],
   "source": [
    "all_review = pd.DataFrame(df.groupby('airline')['airline_sentiment'].count()).reset_index()"
   ]
  },
  {
   "cell_type": "code",
   "execution_count": 17,
   "metadata": {
    "execution": {
     "iopub.execute_input": "2023-01-13T06:02:44.230961Z",
     "iopub.status.busy": "2023-01-13T06:02:44.229744Z",
     "iopub.status.idle": "2023-01-13T06:02:44.239575Z",
     "shell.execute_reply": "2023-01-13T06:02:44.238368Z",
     "shell.execute_reply.started": "2023-01-13T06:02:44.230921Z"
    }
   },
   "outputs": [
    {
     "data": {
      "text/html": [
       "<div>\n",
       "<style scoped>\n",
       "    .dataframe tbody tr th:only-of-type {\n",
       "        vertical-align: middle;\n",
       "    }\n",
       "\n",
       "    .dataframe tbody tr th {\n",
       "        vertical-align: top;\n",
       "    }\n",
       "\n",
       "    .dataframe thead th {\n",
       "        text-align: right;\n",
       "    }\n",
       "</style>\n",
       "<table border=\"1\" class=\"dataframe\">\n",
       "  <thead>\n",
       "    <tr style=\"text-align: right;\">\n",
       "      <th></th>\n",
       "      <th>airline</th>\n",
       "      <th>airline_sentiment</th>\n",
       "    </tr>\n",
       "  </thead>\n",
       "  <tbody>\n",
       "    <tr>\n",
       "      <th>0</th>\n",
       "      <td>American</td>\n",
       "      <td>2759</td>\n",
       "    </tr>\n",
       "    <tr>\n",
       "      <th>1</th>\n",
       "      <td>Delta</td>\n",
       "      <td>2222</td>\n",
       "    </tr>\n",
       "    <tr>\n",
       "      <th>2</th>\n",
       "      <td>Southwest</td>\n",
       "      <td>2420</td>\n",
       "    </tr>\n",
       "    <tr>\n",
       "      <th>3</th>\n",
       "      <td>US Airways</td>\n",
       "      <td>2913</td>\n",
       "    </tr>\n",
       "    <tr>\n",
       "      <th>4</th>\n",
       "      <td>United</td>\n",
       "      <td>3822</td>\n",
       "    </tr>\n",
       "    <tr>\n",
       "      <th>5</th>\n",
       "      <td>Virgin America</td>\n",
       "      <td>504</td>\n",
       "    </tr>\n",
       "  </tbody>\n",
       "</table>\n",
       "</div>"
      ],
      "text/plain": [
       "          airline  airline_sentiment\n",
       "0        American               2759\n",
       "1           Delta               2222\n",
       "2       Southwest               2420\n",
       "3      US Airways               2913\n",
       "4          United               3822\n",
       "5  Virgin America                504"
      ]
     },
     "execution_count": 17,
     "metadata": {},
     "output_type": "execute_result"
    }
   ],
   "source": [
    "all_review"
   ]
  },
  {
   "cell_type": "code",
   "execution_count": 18,
   "metadata": {
    "execution": {
     "iopub.execute_input": "2023-01-13T06:02:44.585840Z",
     "iopub.status.busy": "2023-01-13T06:02:44.584616Z",
     "iopub.status.idle": "2023-01-13T06:02:44.590659Z",
     "shell.execute_reply": "2023-01-13T06:02:44.589606Z",
     "shell.execute_reply.started": "2023-01-13T06:02:44.585788Z"
    }
   },
   "outputs": [],
   "source": [
    "all_review.columns = ['airline','total_reviews']"
   ]
  },
  {
   "cell_type": "code",
   "execution_count": 19,
   "metadata": {
    "execution": {
     "iopub.execute_input": "2023-01-13T06:02:44.953207Z",
     "iopub.status.busy": "2023-01-13T06:02:44.952821Z",
     "iopub.status.idle": "2023-01-13T06:02:44.962451Z",
     "shell.execute_reply": "2023-01-13T06:02:44.960998Z",
     "shell.execute_reply.started": "2023-01-13T06:02:44.953177Z"
    }
   },
   "outputs": [
    {
     "data": {
      "text/html": [
       "<div>\n",
       "<style scoped>\n",
       "    .dataframe tbody tr th:only-of-type {\n",
       "        vertical-align: middle;\n",
       "    }\n",
       "\n",
       "    .dataframe tbody tr th {\n",
       "        vertical-align: top;\n",
       "    }\n",
       "\n",
       "    .dataframe thead th {\n",
       "        text-align: right;\n",
       "    }\n",
       "</style>\n",
       "<table border=\"1\" class=\"dataframe\">\n",
       "  <thead>\n",
       "    <tr style=\"text-align: right;\">\n",
       "      <th></th>\n",
       "      <th>airline</th>\n",
       "      <th>total_reviews</th>\n",
       "    </tr>\n",
       "  </thead>\n",
       "  <tbody>\n",
       "    <tr>\n",
       "      <th>0</th>\n",
       "      <td>American</td>\n",
       "      <td>2759</td>\n",
       "    </tr>\n",
       "    <tr>\n",
       "      <th>1</th>\n",
       "      <td>Delta</td>\n",
       "      <td>2222</td>\n",
       "    </tr>\n",
       "    <tr>\n",
       "      <th>2</th>\n",
       "      <td>Southwest</td>\n",
       "      <td>2420</td>\n",
       "    </tr>\n",
       "    <tr>\n",
       "      <th>3</th>\n",
       "      <td>US Airways</td>\n",
       "      <td>2913</td>\n",
       "    </tr>\n",
       "    <tr>\n",
       "      <th>4</th>\n",
       "      <td>United</td>\n",
       "      <td>3822</td>\n",
       "    </tr>\n",
       "    <tr>\n",
       "      <th>5</th>\n",
       "      <td>Virgin America</td>\n",
       "      <td>504</td>\n",
       "    </tr>\n",
       "  </tbody>\n",
       "</table>\n",
       "</div>"
      ],
      "text/plain": [
       "          airline  total_reviews\n",
       "0        American           2759\n",
       "1           Delta           2222\n",
       "2       Southwest           2420\n",
       "3      US Airways           2913\n",
       "4          United           3822\n",
       "5  Virgin America            504"
      ]
     },
     "execution_count": 19,
     "metadata": {},
     "output_type": "execute_result"
    }
   ],
   "source": [
    "all_review"
   ]
  },
  {
   "cell_type": "code",
   "execution_count": 20,
   "metadata": {
    "execution": {
     "iopub.execute_input": "2023-01-13T06:02:45.309012Z",
     "iopub.status.busy": "2023-01-13T06:02:45.308609Z",
     "iopub.status.idle": "2023-01-13T06:02:45.315782Z",
     "shell.execute_reply": "2023-01-13T06:02:45.314881Z",
     "shell.execute_reply.started": "2023-01-13T06:02:45.308935Z"
    }
   },
   "outputs": [],
   "source": [
    "all_review['neg_reviews'] = total_neg['airline_sentiment']\n",
    "all_review['neg_percent_reviews'] = all_review['neg_reviews'] / all_review['total_reviews']"
   ]
  },
  {
   "cell_type": "code",
   "execution_count": 21,
   "metadata": {
    "execution": {
     "iopub.execute_input": "2023-01-13T06:02:45.703001Z",
     "iopub.status.busy": "2023-01-13T06:02:45.702643Z",
     "iopub.status.idle": "2023-01-13T06:02:45.714786Z",
     "shell.execute_reply": "2023-01-13T06:02:45.713440Z",
     "shell.execute_reply.started": "2023-01-13T06:02:45.702970Z"
    }
   },
   "outputs": [
    {
     "data": {
      "text/html": [
       "<div>\n",
       "<style scoped>\n",
       "    .dataframe tbody tr th:only-of-type {\n",
       "        vertical-align: middle;\n",
       "    }\n",
       "\n",
       "    .dataframe tbody tr th {\n",
       "        vertical-align: top;\n",
       "    }\n",
       "\n",
       "    .dataframe thead th {\n",
       "        text-align: right;\n",
       "    }\n",
       "</style>\n",
       "<table border=\"1\" class=\"dataframe\">\n",
       "  <thead>\n",
       "    <tr style=\"text-align: right;\">\n",
       "      <th></th>\n",
       "      <th>airline</th>\n",
       "      <th>total_reviews</th>\n",
       "      <th>neg_reviews</th>\n",
       "      <th>neg_percent_reviews</th>\n",
       "    </tr>\n",
       "  </thead>\n",
       "  <tbody>\n",
       "    <tr>\n",
       "      <th>0</th>\n",
       "      <td>American</td>\n",
       "      <td>2759</td>\n",
       "      <td>1960</td>\n",
       "      <td>0.710402</td>\n",
       "    </tr>\n",
       "    <tr>\n",
       "      <th>1</th>\n",
       "      <td>Delta</td>\n",
       "      <td>2222</td>\n",
       "      <td>955</td>\n",
       "      <td>0.429793</td>\n",
       "    </tr>\n",
       "    <tr>\n",
       "      <th>2</th>\n",
       "      <td>Southwest</td>\n",
       "      <td>2420</td>\n",
       "      <td>1186</td>\n",
       "      <td>0.490083</td>\n",
       "    </tr>\n",
       "    <tr>\n",
       "      <th>3</th>\n",
       "      <td>US Airways</td>\n",
       "      <td>2913</td>\n",
       "      <td>2263</td>\n",
       "      <td>0.776862</td>\n",
       "    </tr>\n",
       "    <tr>\n",
       "      <th>4</th>\n",
       "      <td>United</td>\n",
       "      <td>3822</td>\n",
       "      <td>2633</td>\n",
       "      <td>0.688906</td>\n",
       "    </tr>\n",
       "    <tr>\n",
       "      <th>5</th>\n",
       "      <td>Virgin America</td>\n",
       "      <td>504</td>\n",
       "      <td>181</td>\n",
       "      <td>0.359127</td>\n",
       "    </tr>\n",
       "  </tbody>\n",
       "</table>\n",
       "</div>"
      ],
      "text/plain": [
       "          airline  total_reviews  neg_reviews  neg_percent_reviews\n",
       "0        American           2759         1960             0.710402\n",
       "1           Delta           2222          955             0.429793\n",
       "2       Southwest           2420         1186             0.490083\n",
       "3      US Airways           2913         2263             0.776862\n",
       "4          United           3822         2633             0.688906\n",
       "5  Virgin America            504          181             0.359127"
      ]
     },
     "execution_count": 21,
     "metadata": {},
     "output_type": "execute_result"
    }
   ],
   "source": [
    "all_review"
   ]
  },
  {
   "cell_type": "code",
   "execution_count": 22,
   "metadata": {
    "execution": {
     "iopub.execute_input": "2023-01-13T06:02:45.980852Z",
     "iopub.status.busy": "2023-01-13T06:02:45.980472Z",
     "iopub.status.idle": "2023-01-13T06:02:46.155480Z",
     "shell.execute_reply": "2023-01-13T06:02:46.154600Z",
     "shell.execute_reply.started": "2023-01-13T06:02:45.980824Z"
    }
   },
   "outputs": [
    {
     "data": {
      "text/plain": [
       "<AxesSubplot:xlabel='airline', ylabel='neg_percent_reviews'>"
      ]
     },
     "execution_count": 22,
     "metadata": {},
     "output_type": "execute_result"
    },
    {
     "data": {
      "image/png": "[encoded data removed]",
      "text/plain": [
       "<Figure size 432x288 with 1 Axes>"
      ]
     },
     "metadata": {
      "needs_background": "light"
     },
     "output_type": "display_data"
    }
   ],
   "source": [
    "sns.barplot(data=all_review,x=\"airline\",y=\"neg_percent_reviews\")"
   ]
  },
  {
   "cell_type": "markdown",
   "metadata": {},
   "source": [
    "From the graph:\n",
    "* Virgin America has the most balanced sentiment.\n",
    "* American, US Airways, and United each has majority negative sentiment."
   ]
  },
  {
   "cell_type": "markdown",
   "metadata": {},
   "source": [
    "**Negative Reasons**"
   ]
  },
  {
   "cell_type": "code",
   "execution_count": 23,
   "metadata": {
    "execution": {
     "iopub.execute_input": "2023-01-13T06:02:47.129347Z",
     "iopub.status.busy": "2023-01-13T06:02:47.128090Z",
     "iopub.status.idle": "2023-01-13T06:02:47.317517Z",
     "shell.execute_reply": "2023-01-13T06:02:47.316854Z",
     "shell.execute_reply.started": "2023-01-13T06:02:47.129285Z"
    }
   },
   "outputs": [
    {
     "data": {
      "image/png": "[encoded data removed]",
      "text/plain": [
       "<Figure size 432x288 with 1 Axes>"
      ]
     },
     "metadata": {
      "needs_background": "light"
     },
     "output_type": "display_data"
    }
   ],
   "source": [
    "cprint('Reasons Of Negative Tweets :','green')\n",
    "print(df.negativereason.value_counts())"
   ]
  },
  {
   "cell_type": "code",
   "execution_count": null,
   "metadata": {},
   "outputs": [],
   "source": [
    "plt.figure(figsize = (24, 10))\n",
    "sns.countplot(x = 'negativereason', data = df, palette = 'hls')\n",
    "plt.title('Reasons Of Negative Tweets About Airlines', fontsize = 20)\n",
    "plt.show()"
   ]
  },
  {
   "cell_type": "markdown",
   "metadata": {},
   "source": [
    "Customer service issue is the main reason of negative sentiment."
   ]
  },
  {
   "cell_type": "code",
   "execution_count": null,
   "metadata": {},
   "outputs": [],
   "source": [
    "NR_Count=df['negativereason'].value_counts()\n",
    "def NCount(Airline):\n",
    "    airlineName =df[df['airline']==Airline]\n",
    "    count= airlineName['negativereason'].value_counts()\n",
    "    Unique_reason= df['negativereason'].unique()\n",
    "    Unique_reason=[x for x in Unique_reason if str(x) != 'nan']\n",
    "    Reason_frame=pd.DataFrame({'Reasons':Unique_reason})\n",
    "    Reason_frame['count']=Reason_frame['Reasons'].apply(lambda x: count[x])\n",
    "    return Reason_frame\n",
    "\n",
    "def plot_reason(airline):\n",
    "    a= NCount(airline)\n",
    "    count=a['count']\n",
    "    Id = range(1,(len(a)+1))\n",
    "    plt.bar(Id,count, color=['darkviolet','yellow','blue','lime','pink','crimson','gold','cyan','orange','purple'])\n",
    "    plt.xticks(Id,a['Reasons'],rotation=90)\n",
    "    plt.title('Count of Reasons for '+ airline)\n",
    "    \n",
    "plt.figure(2,figsize=(13, 13))\n",
    "for i in airlines:\n",
    "    indices= airlines.index(i)\n",
    "    plt.subplot(2,3,indices+1)\n",
    "    plt.subplots_adjust(hspace=0.9)\n",
    "    plot_reason(i)"
   ]
  },
  {
   "cell_type": "markdown",
   "metadata": {},
   "source": [
    "## **Stacked bar chart to show the distribution of reviews per company**"
   ]
  },
  {
   "cell_type": "code",
   "execution_count": null,
   "metadata": {},
   "outputs": [],
   "source": [
    "import plotly.graph_objects as go\n",
    "crosstab_sentiments=pd.crosstab(df.Airline, df.Airline_Sentiment)\n",
    "companies=list(crosstab_sentiments.index)\n",
    "\n",
    "fig = go.Figure(data=[\n",
    "    go.Bar(name=col_name, x=companies, y=list(crosstab_sentiments[col_name]))\n",
    "for col_name in list(crosstab_sentiments.columns)])\n",
    "# Change the bar mode\n",
    "fig.update_layout(barmode='stack',\n",
    "                  title='Sentiment distribution per company',\n",
    "                  yaxis=dict(title='Sentiment distribution'),\n",
    "                 xaxis=dict(title='Companies'))\n",
    "fig.show()"
   ]
  },
  {
   "cell_type": "markdown",
   "metadata": {},
   "source": [
    "## **Stacked bar chart to show negative reasons distributions per company**"
   ]
  },
  {
   "cell_type": "code",
   "execution_count": null,
   "metadata": {},
   "outputs": [],
   "source": [
    "crosstab_neg_reasons = pd.crosstab(df[\"Airline\"], df[\"Negativereason\"])\n",
    "companies = list(crosstab_neg_reasons.index)\n",
    "\n",
    "fig = go.Figure(data = [\n",
    "    go.Bar(name = col_name, x = companies, y = list(crosstab_neg_reasons[col_name]))\n",
    "for col_name in list(crosstab_neg_reasons.columns)])\n",
    "\n",
    "fig.update_layout(barmode = \"stack\",\n",
    "                 title = \"Negative Reasons Distribution per Company\",\n",
    "                 yaxis = dict(title = \"Negative reasons Distribution\"),\n",
    "                 xaxis = dict(title = \"Companies\"))\n",
    "fig.show()"
   ]
  },
  {
   "cell_type": "markdown",
   "metadata": {},
   "source": [
    "## **Pie plot to check the overall distribution for negative reasons**"
   ]
  },
  {
   "cell_type": "code",
   "execution_count": null,
   "metadata": {},
   "outputs": [],
   "source": [
    "labels = list(crosstab_neg_reasons.columns)\n",
    "values = [crosstab_neg_reasons[col_name].sum() for col_name in labels]\n",
    "\n",
    "# Use `hole` to create a donut-like pie chart\n",
    "fig = go.Figure(data=[go.Pie(labels=labels, values=values, hole=.3)])\n",
    "fig.update_layout(title='Overall distribution for negative reasons')\n",
    "fig.show()"
   ]
  },
  {
   "cell_type": "code",
   "execution_count": null,
   "metadata": {},
   "outputs": [],
   "source": [
    "# Split text of Sentiments    \n",
    "positive = df[df['airline_sentiment'] == 'positive'].text\n",
    "neutral  = df[df['airline_sentiment'] == 'neutral'].text\n",
    "negative  = df[df['airline_sentiment'] == 'negative'].text"
   ]
  },
  {
   "cell_type": "code",
   "execution_count": null,
   "metadata": {},
   "outputs": [],
   "source": [
    "# world could of positive sentiments\n",
    "plt.figure(figsize = (20,20)) \n",
    "worldcould_pos = WordCloud(min_font_size = 3,  max_words = 3000 , width = 1600 , height = 680).generate(\" \".join(positive))\n",
    "plt.imshow(worldcould_pos,interpolation = 'bilinear')\n",
    "ax.grid(False)"
   ]
  },
  {
   "cell_type": "code",
   "execution_count": null,
   "metadata": {},
   "outputs": [],
   "source": [
    "# world could of neutral sentiments\n",
    "plt.figure(figsize = (20,20)) \n",
    "worldcould_neutral = WordCloud(min_font_size = 3,  max_words = 3000 , width = 1600 , height = 680).generate(\" \".join(neutral))\n",
    "plt.imshow(worldcould_neutral,interpolation = 'bilinear')\n",
    "ax.grid(False)"
   ]
  },
  {
   "cell_type": "code",
   "execution_count": null,
   "metadata": {},
   "outputs": [],
   "source": [
    "# world could of negative sentiments\n",
    "plt.figure(figsize = (20,20)) \n",
    "worldcould_neg = WordCloud(min_font_size = 3,  max_words = 3000 , width = 1600 , height = 680).generate(\" \".join(negative))\n",
    "plt.imshow(worldcould_neg,interpolation = 'bilinear')\n",
    "ax.grid(False)"
   ]
  },
  {
   "cell_type": "markdown",
   "metadata": {},
   "source": [
    "# **Data Cleaning**"
   ]
  },
  {
   "cell_type": "markdown",
   "metadata": {},
   "source": [
    "From the dataset, we only need two columns (text and airline_sentiment)"
   ]
  },
  {
   "cell_type": "code",
   "execution_count": 24,
   "metadata": {
    "execution": {
     "iopub.execute_input": "2023-01-13T06:02:48.891702Z",
     "iopub.status.busy": "2023-01-13T06:02:48.889463Z",
     "iopub.status.idle": "2023-01-13T06:02:48.899499Z",
     "shell.execute_reply": "2023-01-13T06:02:48.898200Z",
     "shell.execute_reply.started": "2023-01-13T06:02:48.891663Z"
    }
   },
   "outputs": [],
   "source": [
    "df = df[['text','airline_sentiment']]"
   ]
  },
  {
   "cell_type": "code",
   "execution_count": 25,
   "metadata": {
    "execution": {
     "iopub.execute_input": "2023-01-13T06:02:49.280150Z",
     "iopub.status.busy": "2023-01-13T06:02:49.279758Z",
     "iopub.status.idle": "2023-01-13T06:02:49.290609Z",
     "shell.execute_reply": "2023-01-13T06:02:49.289399Z",
     "shell.execute_reply.started": "2023-01-13T06:02:49.280099Z"
    }
   },
   "outputs": [
    {
     "data": {
      "text/html": [
       "<div>\n",
       "<style scoped>\n",
       "    .dataframe tbody tr th:only-of-type {\n",
       "        vertical-align: middle;\n",
       "    }\n",
       "\n",
       "    .dataframe tbody tr th {\n",
       "        vertical-align: top;\n",
       "    }\n",
       "\n",
       "    .dataframe thead th {\n",
       "        text-align: right;\n",
       "    }\n",
       "</style>\n",
       "<table border=\"1\" class=\"dataframe\">\n",
       "  <thead>\n",
       "    <tr style=\"text-align: right;\">\n",
       "      <th></th>\n",
       "      <th>text</th>\n",
       "      <th>airline_sentiment</th>\n",
       "    </tr>\n",
       "  </thead>\n",
       "  <tbody>\n",
       "    <tr>\n",
       "      <th>0</th>\n",
       "      <td>@VirginAmerica What @dhepburn said.</td>\n",
       "      <td>neutral</td>\n",
       "    </tr>\n",
       "    <tr>\n",
       "      <th>1</th>\n",
       "      <td>@VirginAmerica plus you've added commercials t...</td>\n",
       "      <td>positive</td>\n",
       "    </tr>\n",
       "    <tr>\n",
       "      <th>2</th>\n",
       "      <td>@VirginAmerica I didn't today... Must mean I n...</td>\n",
       "      <td>neutral</td>\n",
       "    </tr>\n",
       "    <tr>\n",
       "      <th>3</th>\n",
       "      <td>@VirginAmerica it's really aggressive to blast...</td>\n",
       "      <td>negative</td>\n",
       "    </tr>\n",
       "    <tr>\n",
       "      <th>4</th>\n",
       "      <td>@VirginAmerica and it's a really big bad thing...</td>\n",
       "      <td>negative</td>\n",
       "    </tr>\n",
       "  </tbody>\n",
       "</table>\n",
       "</div>"
      ],
      "text/plain": [
       "                                                text airline_sentiment\n",
       "0                @VirginAmerica What @dhepburn said.           neutral\n",
       "1  @VirginAmerica plus you've added commercials t...          positive\n",
       "2  @VirginAmerica I didn't today... Must mean I n...           neutral\n",
       "3  @VirginAmerica it's really aggressive to blast...          negative\n",
       "4  @VirginAmerica and it's a really big bad thing...          negative"
      ]
     },
     "execution_count": 25,
     "metadata": {},
     "output_type": "execute_result"
    }
   ],
   "source": [
    "df.head()"
   ]
  },
  {
   "cell_type": "code",
   "execution_count": 26,
   "metadata": {
    "execution": {
     "iopub.execute_input": "2023-01-13T06:02:49.847045Z",
     "iopub.status.busy": "2023-01-13T06:02:49.846643Z",
     "iopub.status.idle": "2023-01-13T06:02:49.855312Z",
     "shell.execute_reply": "2023-01-13T06:02:49.853799Z",
     "shell.execute_reply.started": "2023-01-13T06:02:49.847011Z"
    }
   },
   "outputs": [
    {
     "data": {
      "text/plain": [
       "(14640, 2)"
      ]
     },
     "execution_count": 26,
     "metadata": {},
     "output_type": "execute_result"
    }
   ],
   "source": [
    "df.shape"
   ]
  },
  {
   "cell_type": "markdown",
   "metadata": {},
   "source": [
    "**Check the missing values**"
   ]
  },
  {
   "cell_type": "code",
   "execution_count": 27,
   "metadata": {
    "execution": {
     "iopub.execute_input": "2023-01-13T06:02:51.167309Z",
     "iopub.status.busy": "2023-01-13T06:02:51.166815Z",
     "iopub.status.idle": "2023-01-13T06:02:51.178782Z",
     "shell.execute_reply": "2023-01-13T06:02:51.177553Z",
     "shell.execute_reply.started": "2023-01-13T06:02:51.167275Z"
    }
   },
   "outputs": [
    {
     "data": {
      "text/plain": [
       "text                 0\n",
       "airline_sentiment    0\n",
       "dtype: int64"
      ]
     },
     "execution_count": 27,
     "metadata": {},
     "output_type": "execute_result"
    }
   ],
   "source": [
    "df.isna().sum()"
   ]
  },
  {
   "cell_type": "markdown",
   "metadata": {},
   "source": [
    "**Check the duplicates**"
   ]
  },
  {
   "cell_type": "code",
   "execution_count": 28,
   "metadata": {
    "execution": {
     "iopub.execute_input": "2023-01-13T06:02:52.170239Z",
     "iopub.status.busy": "2023-01-13T06:02:52.169855Z",
     "iopub.status.idle": "2023-01-13T06:02:52.186805Z",
     "shell.execute_reply": "2023-01-13T06:02:52.185452Z",
     "shell.execute_reply.started": "2023-01-13T06:02:52.170210Z"
    }
   },
   "outputs": [
    {
     "data": {
      "text/plain": [
       "188"
      ]
     },
     "execution_count": 28,
     "metadata": {},
     "output_type": "execute_result"
    }
   ],
   "source": [
    "df.duplicated().sum()"
   ]
  },
  {
   "cell_type": "markdown",
   "metadata": {},
   "source": [
    "**Remove the duplicates**"
   ]
  },
  {
   "cell_type": "code",
   "execution_count": 29,
   "metadata": {
    "execution": {
     "iopub.execute_input": "2023-01-13T06:02:52.997959Z",
     "iopub.status.busy": "2023-01-13T06:02:52.997551Z",
     "iopub.status.idle": "2023-01-13T06:02:53.013830Z",
     "shell.execute_reply": "2023-01-13T06:02:53.011972Z",
     "shell.execute_reply.started": "2023-01-13T06:02:52.997926Z"
    }
   },
   "outputs": [],
   "source": [
    "df = df.drop_duplicates()"
   ]
  },
  {
   "cell_type": "code",
   "execution_count": 30,
   "metadata": {
    "execution": {
     "iopub.execute_input": "2023-01-13T06:02:53.463428Z",
     "iopub.status.busy": "2023-01-13T06:02:53.463009Z",
     "iopub.status.idle": "2023-01-13T06:02:53.479630Z",
     "shell.execute_reply": "2023-01-13T06:02:53.478201Z",
     "shell.execute_reply.started": "2023-01-13T06:02:53.463395Z"
    }
   },
   "outputs": [
    {
     "data": {
      "text/plain": [
       "0"
      ]
     },
     "execution_count": 30,
     "metadata": {},
     "output_type": "execute_result"
    }
   ],
   "source": [
    "df.duplicated().sum()"
   ]
  },
  {
   "cell_type": "code",
   "execution_count": 31,
   "metadata": {
    "execution": {
     "iopub.execute_input": "2023-01-13T06:02:53.974912Z",
     "iopub.status.busy": "2023-01-13T06:02:53.974579Z",
     "iopub.status.idle": "2023-01-13T06:02:53.981611Z",
     "shell.execute_reply": "2023-01-13T06:02:53.980480Z",
     "shell.execute_reply.started": "2023-01-13T06:02:53.974887Z"
    }
   },
   "outputs": [
    {
     "data": {
      "text/plain": [
       "(14452, 2)"
      ]
     },
     "execution_count": 31,
     "metadata": {},
     "output_type": "execute_result"
    }
   ],
   "source": [
    "df.shape"
   ]
  },
  {
   "cell_type": "markdown",
   "metadata": {},
   "source": [
    "**Clean the text data**"
   ]
  },
  {
   "cell_type": "code",
   "execution_count": 32,
   "metadata": {
    "execution": {
     "iopub.execute_input": "2023-01-13T06:02:54.884994Z",
     "iopub.status.busy": "2023-01-13T06:02:54.884642Z",
     "iopub.status.idle": "2023-01-13T06:02:54.890299Z",
     "shell.execute_reply": "2023-01-13T06:02:54.888818Z",
     "shell.execute_reply.started": "2023-01-13T06:02:54.884966Z"
    }
   },
   "outputs": [],
   "source": [
    "import re"
   ]
  },
  {
   "cell_type": "code",
   "execution_count": 33,
   "metadata": {
    "execution": {
     "iopub.execute_input": "2023-01-13T06:02:55.356868Z",
     "iopub.status.busy": "2023-01-13T06:02:55.356185Z",
     "iopub.status.idle": "2023-01-13T06:02:55.363456Z",
     "shell.execute_reply": "2023-01-13T06:02:55.362442Z",
     "shell.execute_reply.started": "2023-01-13T06:02:55.356831Z"
    }
   },
   "outputs": [],
   "source": [
    "def clean_text(text):\n",
    "   \n",
    "    text = str(text).lower() # convert text to lowercase\n",
    "    text = re.sub('\\[.*?\\]', '', text) \n",
    "    text = re.sub(r'(http|https|ftp|ssh)://([\\w_-]+(?:(?:\\.[\\w_-]+)+))([\\w.,@?^=%&:/~+#-]*[\\w@?^=%&/~+#-])?', '', text) # Remove URl and tags\n",
    "    text = re.sub('<.*?>+', '', text)\n",
    "    text = re.sub(r'[^a-z0-9\\s]', '', text) # Remove punctuation\n",
    "    text = re.sub('\\n', '', text)\n",
    "    text = re.sub('\\w*\\d\\w*', '', text)\n",
    "    return text"
   ]
  },
  {
   "cell_type": "code",
   "execution_count": 34,
   "metadata": {
    "execution": {
     "iopub.execute_input": "2023-01-13T06:02:55.770693Z",
     "iopub.status.busy": "2023-01-13T06:02:55.769777Z",
     "iopub.status.idle": "2023-01-13T06:02:56.026652Z",
     "shell.execute_reply": "2023-01-13T06:02:56.024898Z",
     "shell.execute_reply.started": "2023-01-13T06:02:55.770639Z"
    }
   },
   "outputs": [],
   "source": [
    "df['text'] = df['text'].apply(clean_text)"
   ]
  },
  {
   "cell_type": "code",
   "execution_count": 35,
   "metadata": {
    "execution": {
     "iopub.execute_input": "2023-01-13T06:02:56.192924Z",
     "iopub.status.busy": "2023-01-13T06:02:56.192587Z",
     "iopub.status.idle": "2023-01-13T06:02:56.199198Z",
     "shell.execute_reply": "2023-01-13T06:02:56.198578Z",
     "shell.execute_reply.started": "2023-01-13T06:02:56.192897Z"
    }
   },
   "outputs": [
    {
     "data": {
      "text/plain": [
       "0                     virginamerica what dhepburn said\n",
       "1    virginamerica plus youve added commercials to ...\n",
       "2    virginamerica i didnt today must mean i need t...\n",
       "3    virginamerica its really aggressive to blast o...\n",
       "4    virginamerica and its a really big bad thing a...\n",
       "Name: text, dtype: object"
      ]
     },
     "execution_count": 35,
     "metadata": {},
     "output_type": "execute_result"
    }
   ],
   "source": [
    "df['text'].head()"
   ]
  },
  {
   "cell_type": "markdown",
   "metadata": {},
   "source": [
    "# **Train Test Split**"
   ]
  },
  {
   "cell_type": "markdown",
   "metadata": {},
   "source": [
    "The approach here will use Cross Validation on 90% of the dataset, and then judge the results on a final test set of 10% to evaluate the model\n"
   ]
  },
  {
   "cell_type": "markdown",
   "metadata": {},
   "source": [
    "**Split the dataset into features (X) and label/target (y)**"
   ]
  },
  {
   "cell_type": "code",
   "execution_count": 36,
   "metadata": {
    "execution": {
     "iopub.execute_input": "2023-01-13T06:02:57.840750Z",
     "iopub.status.busy": "2023-01-13T06:02:57.840116Z",
     "iopub.status.idle": "2023-01-13T06:02:57.844833Z",
     "shell.execute_reply": "2023-01-13T06:02:57.843906Z",
     "shell.execute_reply.started": "2023-01-13T06:02:57.840712Z"
    }
   },
   "outputs": [],
   "source": [
    "X = df['text']\n",
    "y = df['airline_sentiment']"
   ]
  },
  {
   "cell_type": "markdown",
   "metadata": {},
   "source": [
    "**Split the dataset into training set and testing set with ratio 90% : 10%.**"
   ]
  },
  {
   "cell_type": "code",
   "execution_count": 37,
   "metadata": {
    "execution": {
     "iopub.execute_input": "2023-01-13T06:02:58.560283Z",
     "iopub.status.busy": "2023-01-13T06:02:58.559830Z",
     "iopub.status.idle": "2023-01-13T06:02:58.689990Z",
     "shell.execute_reply": "2023-01-13T06:02:58.688574Z",
     "shell.execute_reply.started": "2023-01-13T06:02:58.560247Z"
    }
   },
   "outputs": [],
   "source": [
    "from sklearn.model_selection import train_test_split\n",
    "X_train, X_test, y_train, y_test = train_test_split(X, y, test_size=0.1, random_state=42)"
   ]
  },
  {
   "cell_type": "code",
   "execution_count": 38,
   "metadata": {
    "execution": {
     "iopub.execute_input": "2023-01-13T06:02:58.972506Z",
     "iopub.status.busy": "2023-01-13T06:02:58.971973Z",
     "iopub.status.idle": "2023-01-13T06:02:58.978827Z",
     "shell.execute_reply": "2023-01-13T06:02:58.977787Z",
     "shell.execute_reply.started": "2023-01-13T06:02:58.972477Z"
    }
   },
   "outputs": [
    {
     "data": {
      "text/plain": [
       "((13006,), (1446,), (13006,), (1446,))"
      ]
     },
     "execution_count": 38,
     "metadata": {},
     "output_type": "execute_result"
    }
   ],
   "source": [
    "X_train.shape, X_test.shape, y_train.shape, y_test.shape"
   ]
  },
  {
   "cell_type": "markdown",
   "metadata": {},
   "source": [
    "# **Feature Engineering**"
   ]
  },
  {
   "cell_type": "markdown",
   "metadata": {},
   "source": [
    "Use TfidfVectorizer to convert a collection of raw documents to a matrix of TF-IDF features."
   ]
  },
  {
   "cell_type": "code",
   "execution_count": 39,
   "metadata": {
    "execution": {
     "iopub.execute_input": "2023-01-13T06:03:00.129209Z",
     "iopub.status.busy": "2023-01-13T06:03:00.128775Z",
     "iopub.status.idle": "2023-01-13T06:03:00.147018Z",
     "shell.execute_reply": "2023-01-13T06:03:00.146329Z",
     "shell.execute_reply.started": "2023-01-13T06:03:00.129174Z"
    }
   },
   "outputs": [],
   "source": [
    "from sklearn.feature_extraction.text import TfidfVectorizer"
   ]
  },
  {
   "cell_type": "code",
   "execution_count": 40,
   "metadata": {
    "execution": {
     "iopub.execute_input": "2023-01-13T06:03:00.752508Z",
     "iopub.status.busy": "2023-01-13T06:03:00.751880Z",
     "iopub.status.idle": "2023-01-13T06:03:00.758706Z",
     "shell.execute_reply": "2023-01-13T06:03:00.757464Z",
     "shell.execute_reply.started": "2023-01-13T06:03:00.752455Z"
    }
   },
   "outputs": [],
   "source": [
    "vectorizer = TfidfVectorizer(stop_words='english')"
   ]
  },
  {
   "cell_type": "code",
   "execution_count": 41,
   "metadata": {
    "execution": {
     "iopub.execute_input": "2023-01-13T06:03:01.169060Z",
     "iopub.status.busy": "2023-01-13T06:03:01.168700Z",
     "iopub.status.idle": "2023-01-13T06:03:01.391333Z",
     "shell.execute_reply": "2023-01-13T06:03:01.390347Z",
     "shell.execute_reply.started": "2023-01-13T06:03:01.169033Z"
    }
   },
   "outputs": [],
   "source": [
    "X_train = vectorizer.fit_transform(X_train)\n",
    "X_test = vectorizer.transform(X_test)"
   ]
  },
  {
   "cell_type": "code",
   "execution_count": 42,
   "metadata": {
    "execution": {
     "iopub.execute_input": "2023-01-13T06:03:01.549318Z",
     "iopub.status.busy": "2023-01-13T06:03:01.548930Z",
     "iopub.status.idle": "2023-01-13T06:03:01.556964Z",
     "shell.execute_reply": "2023-01-13T06:03:01.555681Z",
     "shell.execute_reply.started": "2023-01-13T06:03:01.549284Z"
    }
   },
   "outputs": [
    {
     "data": {
      "text/plain": [
       "<13006x12004 sparse matrix of type '<class 'numpy.float64'>'\n",
       "\twith 112877 stored elements in Compressed Sparse Row format>"
      ]
     },
     "execution_count": 42,
     "metadata": {},
     "output_type": "execute_result"
    }
   ],
   "source": [
    "X_train"
   ]
  },
  {
   "cell_type": "code",
   "execution_count": 43,
   "metadata": {
    "execution": {
     "iopub.execute_input": "2023-01-13T06:03:01.935768Z",
     "iopub.status.busy": "2023-01-13T06:03:01.934907Z",
     "iopub.status.idle": "2023-01-13T06:03:01.940929Z",
     "shell.execute_reply": "2023-01-13T06:03:01.940245Z",
     "shell.execute_reply.started": "2023-01-13T06:03:01.935736Z"
    }
   },
   "outputs": [
    {
     "data": {
      "text/plain": [
       "<1446x12004 sparse matrix of type '<class 'numpy.float64'>'\n",
       "\twith 11710 stored elements in Compressed Sparse Row format>"
      ]
     },
     "execution_count": 43,
     "metadata": {},
     "output_type": "execute_result"
    }
   ],
   "source": [
    "X_test"
   ]
  },
  {
   "cell_type": "markdown",
   "metadata": {},
   "source": [
    "# **Grid Search & Cross Validation**"
   ]
  },
  {
   "cell_type": "markdown",
   "metadata": {},
   "source": [
    "**Create a grid search function with cross validation.**"
   ]
  },
  {
   "cell_type": "code",
   "execution_count": 44,
   "metadata": {
    "execution": {
     "iopub.execute_input": "2023-01-13T06:03:03.123614Z",
     "iopub.status.busy": "2023-01-13T06:03:03.123220Z",
     "iopub.status.idle": "2023-01-13T06:03:03.135243Z",
     "shell.execute_reply": "2023-01-13T06:03:03.133971Z",
     "shell.execute_reply.started": "2023-01-13T06:03:03.123584Z"
    }
   },
   "outputs": [],
   "source": [
    "from sklearn.experimental import enable_halving_search_cv\n",
    "from sklearn.model_selection import HalvingGridSearchCV"
   ]
  },
  {
   "cell_type": "code",
   "execution_count": 45,
   "metadata": {
    "execution": {
     "iopub.execute_input": "2023-01-13T06:03:03.533408Z",
     "iopub.status.busy": "2023-01-13T06:03:03.532849Z",
     "iopub.status.idle": "2023-01-13T06:03:03.539018Z",
     "shell.execute_reply": "2023-01-13T06:03:03.538049Z",
     "shell.execute_reply.started": "2023-01-13T06:03:03.533374Z"
    }
   },
   "outputs": [],
   "source": [
    "def grid_search(model, parameters):\n",
    "    # Use f1_weighted as scoring since we already know that the dataset has imbalance labels\n",
    "    grid = HalvingGridSearchCV(estimator=model, param_grid=parameters,factor=2, cv=5, \n",
    "                               scoring='f1_weighted',random_state=42,error_score=0)\n",
    "    grid.fit(X_train, y_train)\n",
    "    print('Best Score : ',grid.best_score_)\n",
    "    print('Best parameters : ',grid.best_params_)"
   ]
  },
  {
   "cell_type": "markdown",
   "metadata": {},
   "source": [
    "# **Logistic Regression Model**"
   ]
  },
  {
   "cell_type": "markdown",
   "metadata": {},
   "source": [
    "**Create a base model of logistic regression, then perform a grid search to find the best parameters for final model.**"
   ]
  },
  {
   "cell_type": "code",
   "execution_count": 46,
   "metadata": {
    "execution": {
     "iopub.execute_input": "2023-01-13T06:03:04.766700Z",
     "iopub.status.busy": "2023-01-13T06:03:04.766077Z",
     "iopub.status.idle": "2023-01-13T06:03:04.859091Z",
     "shell.execute_reply": "2023-01-13T06:03:04.857674Z",
     "shell.execute_reply.started": "2023-01-13T06:03:04.766659Z"
    }
   },
   "outputs": [],
   "source": [
    "from sklearn.linear_model import LogisticRegression"
   ]
  },
  {
   "cell_type": "code",
   "execution_count": 47,
   "metadata": {
    "execution": {
     "iopub.execute_input": "2023-01-13T06:03:05.173273Z",
     "iopub.status.busy": "2023-01-13T06:03:05.172879Z",
     "iopub.status.idle": "2023-01-13T06:03:05.178931Z",
     "shell.execute_reply": "2023-01-13T06:03:05.177587Z",
     "shell.execute_reply.started": "2023-01-13T06:03:05.173246Z"
    }
   },
   "outputs": [],
   "source": [
    "logreg = LogisticRegression(class_weight='balanced')"
   ]
  },
  {
   "cell_type": "code",
   "execution_count": 48,
   "metadata": {
    "execution": {
     "iopub.execute_input": "2023-01-13T06:03:05.597548Z",
     "iopub.status.busy": "2023-01-13T06:03:05.597162Z",
     "iopub.status.idle": "2023-01-13T06:03:05.604328Z",
     "shell.execute_reply": "2023-01-13T06:03:05.603111Z",
     "shell.execute_reply.started": "2023-01-13T06:03:05.597519Z"
    }
   },
   "outputs": [],
   "source": [
    "logreg_param = [{'penalty':['l1','l2','none'],\n",
    "               'solver': ['liblinear', 'saga'],\n",
    "               'C':[0.001,0.01,0.1,1,10],\n",
    "               'multi_class':['auto','ovr','multinomial']},\n",
    "               {'penalty':['l2','none'],\n",
    "               'solver': ['sag','newton-cg','lbfgs'],\n",
    "               'C':[0.001,0.01,0.1,1,10],\n",
    "               'multi_class':['auto','ovr','multinomial']}]"
   ]
  },
  {
   "cell_type": "code",
   "execution_count": 49,
   "metadata": {
    "execution": {
     "iopub.execute_input": "2023-01-13T06:03:06.006659Z",
     "iopub.status.busy": "2023-01-13T06:03:06.006305Z",
     "iopub.status.idle": "2023-01-13T06:03:06.011556Z",
     "shell.execute_reply": "2023-01-13T06:03:06.010378Z",
     "shell.execute_reply.started": "2023-01-13T06:03:06.006629Z"
    }
   },
   "outputs": [],
   "source": [
    "# grid_search(logreg,logreg_param)"
   ]
  },
  {
   "cell_type": "markdown",
   "metadata": {},
   "source": [
    "Use the grid search results - best parameters for final logistic regression model."
   ]
  },
  {
   "cell_type": "code",
   "execution_count": 50,
   "metadata": {
    "execution": {
     "iopub.execute_input": "2023-01-13T06:03:07.058026Z",
     "iopub.status.busy": "2023-01-13T06:03:07.057605Z",
     "iopub.status.idle": "2023-01-13T06:03:07.063619Z",
     "shell.execute_reply": "2023-01-13T06:03:07.062751Z",
     "shell.execute_reply.started": "2023-01-13T06:03:07.057991Z"
    }
   },
   "outputs": [],
   "source": [
    "logreg_model = LogisticRegression(class_weight='balanced',C=0.1,multi_class='multinomial',penalty='l2',solver='sag')"
   ]
  },
  {
   "cell_type": "markdown",
   "metadata": {},
   "source": [
    "# **KNN Model**"
   ]
  },
  {
   "cell_type": "markdown",
   "metadata": {},
   "source": [
    "**Create a base model of KNN, then perform a grid search to find the best parameters for final model.**"
   ]
  },
  {
   "cell_type": "code",
   "execution_count": 51,
   "metadata": {
    "execution": {
     "iopub.execute_input": "2023-01-13T06:03:08.741223Z",
     "iopub.status.busy": "2023-01-13T06:03:08.740570Z",
     "iopub.status.idle": "2023-01-13T06:03:08.800185Z",
     "shell.execute_reply": "2023-01-13T06:03:08.798566Z",
     "shell.execute_reply.started": "2023-01-13T06:03:08.741183Z"
    }
   },
   "outputs": [],
   "source": [
    "from sklearn.neighbors import KNeighborsClassifier"
   ]
  },
  {
   "cell_type": "code",
   "execution_count": 52,
   "metadata": {
    "execution": {
     "iopub.execute_input": "2023-01-13T06:03:09.316551Z",
     "iopub.status.busy": "2023-01-13T06:03:09.316199Z",
     "iopub.status.idle": "2023-01-13T06:03:09.320466Z",
     "shell.execute_reply": "2023-01-13T06:03:09.319571Z",
     "shell.execute_reply.started": "2023-01-13T06:03:09.316522Z"
    }
   },
   "outputs": [],
   "source": [
    "knn = KNeighborsClassifier()"
   ]
  },
  {
   "cell_type": "code",
   "execution_count": 53,
   "metadata": {
    "execution": {
     "iopub.execute_input": "2023-01-13T06:03:09.891620Z",
     "iopub.status.busy": "2023-01-13T06:03:09.891275Z",
     "iopub.status.idle": "2023-01-13T06:03:09.897443Z",
     "shell.execute_reply": "2023-01-13T06:03:09.895829Z",
     "shell.execute_reply.started": "2023-01-13T06:03:09.891593Z"
    }
   },
   "outputs": [],
   "source": [
    "knn_param = {'n_neighbors':list(range(5,30)),\n",
    "            'weights':['uniform', 'distance'],\n",
    "            'algorithm':['auto', 'ball_tree', 'kd_tree', 'brute']}"
   ]
  },
  {
   "cell_type": "code",
   "execution_count": 54,
   "metadata": {
    "execution": {
     "iopub.execute_input": "2023-01-13T06:03:10.477932Z",
     "iopub.status.busy": "2023-01-13T06:03:10.477592Z",
     "iopub.status.idle": "2023-01-13T06:03:10.484235Z",
     "shell.execute_reply": "2023-01-13T06:03:10.482537Z",
     "shell.execute_reply.started": "2023-01-13T06:03:10.477904Z"
    }
   },
   "outputs": [],
   "source": [
    "# grid_search(knn, knn_param)"
   ]
  },
  {
   "cell_type": "markdown",
   "metadata": {},
   "source": [
    "Use the grid search results - best parameters for final KNN model."
   ]
  },
  {
   "cell_type": "code",
   "execution_count": 55,
   "metadata": {
    "execution": {
     "iopub.execute_input": "2023-01-13T06:03:11.638956Z",
     "iopub.status.busy": "2023-01-13T06:03:11.638572Z",
     "iopub.status.idle": "2023-01-13T06:03:11.644596Z",
     "shell.execute_reply": "2023-01-13T06:03:11.643190Z",
     "shell.execute_reply.started": "2023-01-13T06:03:11.638922Z"
    }
   },
   "outputs": [],
   "source": [
    "KNN_model = KNeighborsClassifier(algorithm='ball_tree',n_neighbors=12,weights='distance')"
   ]
  },
  {
   "cell_type": "markdown",
   "metadata": {},
   "source": [
    "# **SVC Model**"
   ]
  },
  {
   "cell_type": "markdown",
   "metadata": {},
   "source": [
    "**Create a base model of Support Vector Classifier, then perform a grid search to find the best parameters for final model.**"
   ]
  },
  {
   "cell_type": "code",
   "execution_count": 56,
   "metadata": {
    "execution": {
     "iopub.execute_input": "2023-01-13T06:03:13.302990Z",
     "iopub.status.busy": "2023-01-13T06:03:13.302600Z",
     "iopub.status.idle": "2023-01-13T06:03:13.308014Z",
     "shell.execute_reply": "2023-01-13T06:03:13.307002Z",
     "shell.execute_reply.started": "2023-01-13T06:03:13.302963Z"
    }
   },
   "outputs": [],
   "source": [
    "from sklearn.svm import SVC"
   ]
  },
  {
   "cell_type": "code",
   "execution_count": 57,
   "metadata": {
    "execution": {
     "iopub.execute_input": "2023-01-13T06:03:13.806025Z",
     "iopub.status.busy": "2023-01-13T06:03:13.805673Z",
     "iopub.status.idle": "2023-01-13T06:03:13.811751Z",
     "shell.execute_reply": "2023-01-13T06:03:13.810613Z",
     "shell.execute_reply.started": "2023-01-13T06:03:13.805994Z"
    }
   },
   "outputs": [],
   "source": [
    "svc = SVC(class_weight='balanced')"
   ]
  },
  {
   "cell_type": "code",
   "execution_count": 58,
   "metadata": {
    "execution": {
     "iopub.execute_input": "2023-01-13T06:03:14.227924Z",
     "iopub.status.busy": "2023-01-13T06:03:14.227570Z",
     "iopub.status.idle": "2023-01-13T06:03:14.232652Z",
     "shell.execute_reply": "2023-01-13T06:03:14.231704Z",
     "shell.execute_reply.started": "2023-01-13T06:03:14.227885Z"
    }
   },
   "outputs": [],
   "source": [
    "svc_param = {'C':[0.001, 0.01, 0.1, 1, 10],\n",
    "              'kernel':['linear','poly','rbf','sigmoid'],\n",
    "              'gamma':['scale','auto',0.001, 0.01, 0.1, 1, 10]}"
   ]
  },
  {
   "cell_type": "code",
   "execution_count": 59,
   "metadata": {
    "execution": {
     "iopub.execute_input": "2023-01-13T06:03:14.735356Z",
     "iopub.status.busy": "2023-01-13T06:03:14.734591Z",
     "iopub.status.idle": "2023-01-13T06:03:14.740456Z",
     "shell.execute_reply": "2023-01-13T06:03:14.738948Z",
     "shell.execute_reply.started": "2023-01-13T06:03:14.735325Z"
    }
   },
   "outputs": [],
   "source": [
    "# grid_search(svc, svc_param)"
   ]
  },
  {
   "cell_type": "markdown",
   "metadata": {},
   "source": [
    "Use the grid search results - best parameters for final SVC model."
   ]
  },
  {
   "cell_type": "code",
   "execution_count": 60,
   "metadata": {
    "execution": {
     "iopub.execute_input": "2023-01-13T06:03:15.843898Z",
     "iopub.status.busy": "2023-01-13T06:03:15.843535Z",
     "iopub.status.idle": "2023-01-13T06:03:15.850212Z",
     "shell.execute_reply": "2023-01-13T06:03:15.848592Z",
     "shell.execute_reply.started": "2023-01-13T06:03:15.843869Z"
    }
   },
   "outputs": [],
   "source": [
    "SVC_model = SVC(class_weight='balanced',C=1,gamma=1,kernel='linear')"
   ]
  },
  {
   "cell_type": "markdown",
   "metadata": {},
   "source": [
    "# **Naive Bayes Model**"
   ]
  },
  {
   "cell_type": "markdown",
   "metadata": {},
   "source": [
    "The Naive Bayes model here will use default parameters."
   ]
  },
  {
   "cell_type": "code",
   "execution_count": 61,
   "metadata": {
    "execution": {
     "iopub.execute_input": "2023-01-13T06:03:17.796164Z",
     "iopub.status.busy": "2023-01-13T06:03:17.795433Z",
     "iopub.status.idle": "2023-01-13T06:03:17.805717Z",
     "shell.execute_reply": "2023-01-13T06:03:17.804270Z",
     "shell.execute_reply.started": "2023-01-13T06:03:17.796053Z"
    }
   },
   "outputs": [],
   "source": [
    "from sklearn.naive_bayes import BernoulliNB, GaussianNB, MultinomialNB, ComplementNB"
   ]
  },
  {
   "cell_type": "code",
   "execution_count": 62,
   "metadata": {
    "execution": {
     "iopub.execute_input": "2023-01-13T06:03:18.568710Z",
     "iopub.status.busy": "2023-01-13T06:03:18.567463Z",
     "iopub.status.idle": "2023-01-13T06:03:18.573705Z",
     "shell.execute_reply": "2023-01-13T06:03:18.572782Z",
     "shell.execute_reply.started": "2023-01-13T06:03:18.568667Z"
    }
   },
   "outputs": [],
   "source": [
    "BNB_model = BernoulliNB()\n",
    "GNB_model = GaussianNB()\n",
    "MNB_model = MultinomialNB()\n",
    "CNB_model = ComplementNB()\n",
    "NB_param = {}"
   ]
  },
  {
   "cell_type": "code",
   "execution_count": 63,
   "metadata": {
    "execution": {
     "iopub.execute_input": "2023-01-13T06:03:19.478998Z",
     "iopub.status.busy": "2023-01-13T06:03:19.478441Z",
     "iopub.status.idle": "2023-01-13T06:03:19.887076Z",
     "shell.execute_reply": "2023-01-13T06:03:19.885693Z",
     "shell.execute_reply.started": "2023-01-13T06:03:19.478957Z"
    }
   },
   "outputs": [
    {
     "name": "stdout",
     "output_type": "stream",
     "text": [
      "Best Score :  0.6826802304531071\n",
      "Best parameters :  {}\n"
     ]
    }
   ],
   "source": [
    "grid_search(BNB_model,NB_param)"
   ]
  },
  {
   "cell_type": "code",
   "execution_count": 64,
   "metadata": {
    "execution": {
     "iopub.execute_input": "2023-01-13T06:03:20.184003Z",
     "iopub.status.busy": "2023-01-13T06:03:20.183594Z",
     "iopub.status.idle": "2023-01-13T06:03:20.575176Z",
     "shell.execute_reply": "2023-01-13T06:03:20.573951Z",
     "shell.execute_reply.started": "2023-01-13T06:03:20.183972Z"
    }
   },
   "outputs": [
    {
     "name": "stdout",
     "output_type": "stream",
     "text": [
      "Best Score :  0.5924478934755192\n",
      "Best parameters :  {}\n"
     ]
    }
   ],
   "source": [
    "grid_search(MNB_model,NB_param)"
   ]
  },
  {
   "cell_type": "code",
   "execution_count": 65,
   "metadata": {
    "execution": {
     "iopub.execute_input": "2023-01-13T06:03:21.299824Z",
     "iopub.status.busy": "2023-01-13T06:03:21.298727Z",
     "iopub.status.idle": "2023-01-13T06:03:21.740535Z",
     "shell.execute_reply": "2023-01-13T06:03:21.739166Z",
     "shell.execute_reply.started": "2023-01-13T06:03:21.299781Z"
    }
   },
   "outputs": [
    {
     "name": "stdout",
     "output_type": "stream",
     "text": [
      "Best Score :  0.7369253091498471\n",
      "Best parameters :  {}\n"
     ]
    }
   ],
   "source": [
    "grid_search(CNB_model,NB_param)"
   ]
  },
  {
   "cell_type": "code",
   "execution_count": 66,
   "metadata": {
    "execution": {
     "iopub.execute_input": "2023-01-13T06:03:23.884916Z",
     "iopub.status.busy": "2023-01-13T06:03:23.884565Z",
     "iopub.status.idle": "2023-01-13T06:03:39.376463Z",
     "shell.execute_reply": "2023-01-13T06:03:39.375141Z",
     "shell.execute_reply.started": "2023-01-13T06:03:23.884887Z"
    }
   },
   "outputs": [
    {
     "name": "stdout",
     "output_type": "stream",
     "text": [
      "Best Score :  0.5148436062659207\n",
      "Best parameters : \n",
      "{}\n"
     ]
    }
   ],
   "source": [
    "grid2 = HalvingGridSearchCV(estimator=GNB_model, param_grid=NB_param,factor=2, cv=5, \n",
    "                               scoring='f1_weighted',random_state=42,error_score=0)\n",
    "grid2.fit(X_train.toarray(), y_train)\n",
    "print('Best Score : ',grid2.best_score_)\n",
    "print('Best parameters : ')\n",
    "print(grid2.best_params_)"
   ]
  },
  {
   "cell_type": "markdown",
   "metadata": {},
   "source": [
    "Based on the results, MNB_model and GNB_model did not perform really well (with f1_score below 0.6). So, I will not use them for final evaluation. I will use BNB_model and CNB_model instead."
   ]
  },
  {
   "cell_type": "code",
   "execution_count": 67,
   "metadata": {
    "execution": {
     "iopub.execute_input": "2023-01-13T06:03:55.207420Z",
     "iopub.status.busy": "2023-01-13T06:03:55.207035Z",
     "iopub.status.idle": "2023-01-13T06:03:55.212379Z",
     "shell.execute_reply": "2023-01-13T06:03:55.211057Z",
     "shell.execute_reply.started": "2023-01-13T06:03:55.207386Z"
    }
   },
   "outputs": [],
   "source": [
    "BNB_model = BernoulliNB()\n",
    "CNB_model = ComplementNB()"
   ]
  },
  {
   "cell_type": "markdown",
   "metadata": {},
   "source": [
    "# **Decision Tree Model**"
   ]
  },
  {
   "cell_type": "markdown",
   "metadata": {},
   "source": [
    "**Create a base model of decision tree, then perform a grid search to find the best parameters for final model.**"
   ]
  },
  {
   "cell_type": "code",
   "execution_count": 68,
   "metadata": {
    "execution": {
     "iopub.execute_input": "2023-01-13T06:03:57.099157Z",
     "iopub.status.busy": "2023-01-13T06:03:57.098723Z",
     "iopub.status.idle": "2023-01-13T06:03:57.136814Z",
     "shell.execute_reply": "2023-01-13T06:03:57.135107Z",
     "shell.execute_reply.started": "2023-01-13T06:03:57.099098Z"
    }
   },
   "outputs": [],
   "source": [
    "from sklearn.tree import DecisionTreeClassifier"
   ]
  },
  {
   "cell_type": "code",
   "execution_count": 69,
   "metadata": {
    "execution": {
     "iopub.execute_input": "2023-01-13T06:03:57.656043Z",
     "iopub.status.busy": "2023-01-13T06:03:57.655643Z",
     "iopub.status.idle": "2023-01-13T06:03:57.662449Z",
     "shell.execute_reply": "2023-01-13T06:03:57.661151Z",
     "shell.execute_reply.started": "2023-01-13T06:03:57.656009Z"
    }
   },
   "outputs": [],
   "source": [
    "DecTree = DecisionTreeClassifier(class_weight='balanced', random_state=42)"
   ]
  },
  {
   "cell_type": "code",
   "execution_count": 70,
   "metadata": {
    "execution": {
     "iopub.execute_input": "2023-01-13T06:03:58.511482Z",
     "iopub.status.busy": "2023-01-13T06:03:58.511042Z",
     "iopub.status.idle": "2023-01-13T06:03:58.518133Z",
     "shell.execute_reply": "2023-01-13T06:03:58.516824Z",
     "shell.execute_reply.started": "2023-01-13T06:03:58.511449Z"
    }
   },
   "outputs": [],
   "source": [
    "DT_param = {'criterion':['gini','entropy','log_loss'],\n",
    "           'max_features':['sqrt','log2', None],\n",
    "           'max_depth':[None,5,6,7,8,9,10,11,12,13,14,15]}"
   ]
  },
  {
   "cell_type": "code",
   "execution_count": 71,
   "metadata": {
    "execution": {
     "iopub.execute_input": "2023-01-13T06:03:59.106522Z",
     "iopub.status.busy": "2023-01-13T06:03:59.106100Z",
     "iopub.status.idle": "2023-01-13T06:03:59.110773Z",
     "shell.execute_reply": "2023-01-13T06:03:59.109729Z",
     "shell.execute_reply.started": "2023-01-13T06:03:59.106490Z"
    }
   },
   "outputs": [],
   "source": [
    "# grid_search(DecTree,DT_param)"
   ]
  },
  {
   "cell_type": "markdown",
   "metadata": {},
   "source": [
    "Use the grid search results - best parameters for final Decision Tree model."
   ]
  },
  {
   "cell_type": "code",
   "execution_count": 72,
   "metadata": {
    "execution": {
     "iopub.execute_input": "2023-01-13T06:04:00.749879Z",
     "iopub.status.busy": "2023-01-13T06:04:00.749462Z",
     "iopub.status.idle": "2023-01-13T06:04:00.755313Z",
     "shell.execute_reply": "2023-01-13T06:04:00.754293Z",
     "shell.execute_reply.started": "2023-01-13T06:04:00.749839Z"
    }
   },
   "outputs": [],
   "source": [
    "DTC_model = DecisionTreeClassifier(criterion='gini',max_features=None,max_depth=None,class_weight='balanced', random_state=42)"
   ]
  },
  {
   "cell_type": "markdown",
   "metadata": {},
   "source": [
    "# **Random Forest Model**"
   ]
  },
  {
   "cell_type": "markdown",
   "metadata": {},
   "source": [
    "**Create a base model of random forest, then perform a grid search to find the best parameters for final model.**"
   ]
  },
  {
   "cell_type": "code",
   "execution_count": 73,
   "metadata": {
    "execution": {
     "iopub.execute_input": "2023-01-13T06:04:02.978712Z",
     "iopub.status.busy": "2023-01-13T06:04:02.977968Z",
     "iopub.status.idle": "2023-01-13T06:04:03.055594Z",
     "shell.execute_reply": "2023-01-13T06:04:03.054235Z",
     "shell.execute_reply.started": "2023-01-13T06:04:02.978678Z"
    }
   },
   "outputs": [],
   "source": [
    "from sklearn.ensemble import RandomForestClassifier"
   ]
  },
  {
   "cell_type": "code",
   "execution_count": 74,
   "metadata": {
    "execution": {
     "iopub.execute_input": "2023-01-13T06:04:03.504810Z",
     "iopub.status.busy": "2023-01-13T06:04:03.504427Z",
     "iopub.status.idle": "2023-01-13T06:04:03.510354Z",
     "shell.execute_reply": "2023-01-13T06:04:03.509274Z",
     "shell.execute_reply.started": "2023-01-13T06:04:03.504780Z"
    }
   },
   "outputs": [],
   "source": [
    "RFC = RandomForestClassifier(random_state=42, class_weight='balanced')"
   ]
  },
  {
   "cell_type": "code",
   "execution_count": 75,
   "metadata": {
    "execution": {
     "iopub.execute_input": "2023-01-13T06:04:04.141504Z",
     "iopub.status.busy": "2023-01-13T06:04:04.141104Z",
     "iopub.status.idle": "2023-01-13T06:04:04.147538Z",
     "shell.execute_reply": "2023-01-13T06:04:04.145876Z",
     "shell.execute_reply.started": "2023-01-13T06:04:04.141469Z"
    }
   },
   "outputs": [],
   "source": [
    "RFC_param = {'criterion':['gini','entropy','log_loss'],\n",
    "           'max_features':['sqrt','log2', None],\n",
    "            'n_estimators':[50,100,150,200,250,300,400],\n",
    "            'max_depth':[None,5,6,7,8,9,10,11,12,13,14,15]}"
   ]
  },
  {
   "cell_type": "code",
   "execution_count": 76,
   "metadata": {
    "execution": {
     "iopub.execute_input": "2023-01-13T06:04:04.717465Z",
     "iopub.status.busy": "2023-01-13T06:04:04.717029Z",
     "iopub.status.idle": "2023-01-13T06:04:04.721568Z",
     "shell.execute_reply": "2023-01-13T06:04:04.720562Z",
     "shell.execute_reply.started": "2023-01-13T06:04:04.717431Z"
    }
   },
   "outputs": [],
   "source": [
    "# grid_search(RFC, RFC_param)"
   ]
  },
  {
   "cell_type": "markdown",
   "metadata": {},
   "source": [
    "Use the grid search results - best parameters for final Random Forest model."
   ]
  },
  {
   "cell_type": "code",
   "execution_count": 77,
   "metadata": {
    "execution": {
     "iopub.execute_input": "2023-01-13T06:04:05.853510Z",
     "iopub.status.busy": "2023-01-13T06:04:05.852992Z",
     "iopub.status.idle": "2023-01-13T06:04:05.859905Z",
     "shell.execute_reply": "2023-01-13T06:04:05.858399Z",
     "shell.execute_reply.started": "2023-01-13T06:04:05.853472Z"
    }
   },
   "outputs": [],
   "source": [
    "RFC_model = RandomForestClassifier(criterion='entropy',max_features=None,n_estimators=400,max_depth=15,random_state=42, class_weight='balanced')"
   ]
  },
  {
   "cell_type": "markdown",
   "metadata": {},
   "source": [
    "# **Bagging Classifier Model**"
   ]
  },
  {
   "cell_type": "markdown",
   "metadata": {},
   "source": [
    "Bagging Classifier Model will use final decision tree model (DTC_model) as base estimator."
   ]
  },
  {
   "cell_type": "code",
   "execution_count": 78,
   "metadata": {
    "execution": {
     "iopub.execute_input": "2023-01-13T06:04:07.728411Z",
     "iopub.status.busy": "2023-01-13T06:04:07.728028Z",
     "iopub.status.idle": "2023-01-13T06:04:07.732561Z",
     "shell.execute_reply": "2023-01-13T06:04:07.731798Z",
     "shell.execute_reply.started": "2023-01-13T06:04:07.728377Z"
    }
   },
   "outputs": [],
   "source": [
    "from sklearn.ensemble import BaggingClassifier"
   ]
  },
  {
   "cell_type": "code",
   "execution_count": 79,
   "metadata": {
    "execution": {
     "iopub.execute_input": "2023-01-13T06:04:08.319164Z",
     "iopub.status.busy": "2023-01-13T06:04:08.318572Z",
     "iopub.status.idle": "2023-01-13T06:04:08.324802Z",
     "shell.execute_reply": "2023-01-13T06:04:08.323424Z",
     "shell.execute_reply.started": "2023-01-13T06:04:08.319105Z"
    }
   },
   "outputs": [],
   "source": [
    "Bagging = BaggingClassifier(base_estimator=DTC_model,random_state=42)"
   ]
  },
  {
   "cell_type": "code",
   "execution_count": 80,
   "metadata": {
    "execution": {
     "iopub.execute_input": "2023-01-13T06:04:09.118044Z",
     "iopub.status.busy": "2023-01-13T06:04:09.117229Z",
     "iopub.status.idle": "2023-01-13T06:04:09.123020Z",
     "shell.execute_reply": "2023-01-13T06:04:09.121723Z",
     "shell.execute_reply.started": "2023-01-13T06:04:09.118006Z"
    }
   },
   "outputs": [],
   "source": [
    "bag_param = {'n_estimators':[50,100,150,200,250,300,400],\n",
    "            'bootstrap':[True,False]}"
   ]
  },
  {
   "cell_type": "code",
   "execution_count": 81,
   "metadata": {
    "execution": {
     "iopub.execute_input": "2023-01-13T06:04:09.826071Z",
     "iopub.status.busy": "2023-01-13T06:04:09.825708Z",
     "iopub.status.idle": "2023-01-13T06:04:09.831214Z",
     "shell.execute_reply": "2023-01-13T06:04:09.829870Z",
     "shell.execute_reply.started": "2023-01-13T06:04:09.826045Z"
    }
   },
   "outputs": [],
   "source": [
    "# grid_search(Bagging,bag_param)"
   ]
  },
  {
   "cell_type": "markdown",
   "metadata": {},
   "source": [
    "Use the grid search results - best parameters for final Bagging Classifier model."
   ]
  },
  {
   "cell_type": "code",
   "execution_count": 82,
   "metadata": {
    "execution": {
     "iopub.execute_input": "2023-01-13T06:04:11.380247Z",
     "iopub.status.busy": "2023-01-13T06:04:11.379791Z",
     "iopub.status.idle": "2023-01-13T06:04:11.385836Z",
     "shell.execute_reply": "2023-01-13T06:04:11.384802Z",
     "shell.execute_reply.started": "2023-01-13T06:04:11.380213Z"
    }
   },
   "outputs": [],
   "source": [
    "Bagging_model = BaggingClassifier(base_estimator=DTC_model,random_state=42,bootstrap=True,n_estimators=300)"
   ]
  },
  {
   "cell_type": "markdown",
   "metadata": {},
   "source": [
    "# **AdaBoost Model**"
   ]
  },
  {
   "cell_type": "markdown",
   "metadata": {},
   "source": [
    "AdaBoost Model will use final decision tree model (DTC_model) as base estimator."
   ]
  },
  {
   "cell_type": "code",
   "execution_count": 83,
   "metadata": {
    "execution": {
     "iopub.execute_input": "2023-01-13T06:04:14.935183Z",
     "iopub.status.busy": "2023-01-13T06:04:14.934795Z",
     "iopub.status.idle": "2023-01-13T06:04:14.940989Z",
     "shell.execute_reply": "2023-01-13T06:04:14.939590Z",
     "shell.execute_reply.started": "2023-01-13T06:04:14.935151Z"
    }
   },
   "outputs": [],
   "source": [
    "from sklearn.ensemble import AdaBoostClassifier"
   ]
  },
  {
   "cell_type": "code",
   "execution_count": 84,
   "metadata": {
    "execution": {
     "iopub.execute_input": "2023-01-13T06:04:15.710983Z",
     "iopub.status.busy": "2023-01-13T06:04:15.710591Z",
     "iopub.status.idle": "2023-01-13T06:04:15.716273Z",
     "shell.execute_reply": "2023-01-13T06:04:15.715231Z",
     "shell.execute_reply.started": "2023-01-13T06:04:15.710952Z"
    }
   },
   "outputs": [],
   "source": [
    "Adaboost = AdaBoostClassifier(base_estimator=DTC_model,random_state=42)"
   ]
  },
  {
   "cell_type": "code",
   "execution_count": 85,
   "metadata": {
    "execution": {
     "iopub.execute_input": "2023-01-13T06:04:16.816199Z",
     "iopub.status.busy": "2023-01-13T06:04:16.814835Z",
     "iopub.status.idle": "2023-01-13T06:04:16.821433Z",
     "shell.execute_reply": "2023-01-13T06:04:16.820040Z",
     "shell.execute_reply.started": "2023-01-13T06:04:16.816151Z"
    }
   },
   "outputs": [],
   "source": [
    "Ada_param = {'n_estimators':[50,100,150,200,250,300,400],\n",
    "            'learning_rate':[0.001, 0.01, 0.1, 0.2, 0.3, 0.4, 0.5, 1]}"
   ]
  },
  {
   "cell_type": "code",
   "execution_count": 86,
   "metadata": {
    "execution": {
     "iopub.execute_input": "2023-01-13T06:04:17.756861Z",
     "iopub.status.busy": "2023-01-13T06:04:17.755155Z",
     "iopub.status.idle": "2023-01-13T06:04:17.761462Z",
     "shell.execute_reply": "2023-01-13T06:04:17.759807Z",
     "shell.execute_reply.started": "2023-01-13T06:04:17.756807Z"
    }
   },
   "outputs": [],
   "source": [
    "# grid_search(Adaboost,Ada_param)"
   ]
  },
  {
   "cell_type": "markdown",
   "metadata": {},
   "source": [
    "Use the grid search results - best parameters for final AdaBoost model."
   ]
  },
  {
   "cell_type": "code",
   "execution_count": 87,
   "metadata": {
    "execution": {
     "iopub.execute_input": "2023-01-13T06:04:19.680894Z",
     "iopub.status.busy": "2023-01-13T06:04:19.680284Z",
     "iopub.status.idle": "2023-01-13T06:04:19.684905Z",
     "shell.execute_reply": "2023-01-13T06:04:19.683733Z",
     "shell.execute_reply.started": "2023-01-13T06:04:19.680864Z"
    }
   },
   "outputs": [],
   "source": [
    "Adaboost_model = AdaBoostClassifier(learning_rate=0.1,n_estimators=100,base_estimator=DTC_model,random_state=42)"
   ]
  },
  {
   "cell_type": "markdown",
   "metadata": {},
   "source": [
    "# **Gradient Boosting Model**"
   ]
  },
  {
   "cell_type": "markdown",
   "metadata": {},
   "source": [
    "**Create a base model of gradient boosting, then perform a grid search to find the best parameters for final model.**"
   ]
  },
  {
   "cell_type": "code",
   "execution_count": 88,
   "metadata": {
    "execution": {
     "iopub.execute_input": "2023-01-13T06:04:27.299661Z",
     "iopub.status.busy": "2023-01-13T06:04:27.299312Z",
     "iopub.status.idle": "2023-01-13T06:04:27.303933Z",
     "shell.execute_reply": "2023-01-13T06:04:27.302865Z",
     "shell.execute_reply.started": "2023-01-13T06:04:27.299636Z"
    }
   },
   "outputs": [],
   "source": [
    "from sklearn.ensemble import GradientBoostingClassifier"
   ]
  },
  {
   "cell_type": "code",
   "execution_count": 89,
   "metadata": {
    "execution": {
     "iopub.execute_input": "2023-01-13T06:04:28.352396Z",
     "iopub.status.busy": "2023-01-13T06:04:28.351037Z",
     "iopub.status.idle": "2023-01-13T06:04:28.358071Z",
     "shell.execute_reply": "2023-01-13T06:04:28.356602Z",
     "shell.execute_reply.started": "2023-01-13T06:04:28.352351Z"
    }
   },
   "outputs": [],
   "source": [
    "GB = GradientBoostingClassifier(random_state=42)"
   ]
  },
  {
   "cell_type": "code",
   "execution_count": 90,
   "metadata": {
    "execution": {
     "iopub.execute_input": "2023-01-13T06:04:30.420294Z",
     "iopub.status.busy": "2023-01-13T06:04:30.419845Z",
     "iopub.status.idle": "2023-01-13T06:04:30.425731Z",
     "shell.execute_reply": "2023-01-13T06:04:30.424541Z",
     "shell.execute_reply.started": "2023-01-13T06:04:30.420261Z"
    }
   },
   "outputs": [],
   "source": [
    "GB_param = {'n_estimators':[50,100,150,200,250,300,400],\n",
    "            'learning_rate':[0.001, 0.01, 0.1, 0.2, 0.3, 0.4, 0.5, 1],\n",
    "           'max_features':['sqrt','log2',None],\n",
    "           'max_depth':[None,5,6,7,8,9,10,11,12,13,14,15]}"
   ]
  },
  {
   "cell_type": "code",
   "execution_count": 92,
   "metadata": {
    "execution": {
     "iopub.execute_input": "2023-01-13T06:04:40.021317Z",
     "iopub.status.busy": "2023-01-13T06:04:40.020870Z",
     "iopub.status.idle": "2023-01-13T12:30:27.851800Z",
     "shell.execute_reply": "2023-01-13T12:30:27.849384Z",
     "shell.execute_reply.started": "2023-01-13T06:04:40.021282Z"
    }
   },
   "outputs": [
    {
     "name": "stdout",
     "output_type": "stream",
     "text": [
      "Best Score :  0.7171231221060188\n",
      "Best parameters :  {'learning_rate': 0.2, 'max_depth': 7, 'max_features': None, 'n_estimators': 200}\n"
     ]
    }
   ],
   "source": [
    "# grid_search(GB,GB_param)"
   ]
  },
  {
   "cell_type": "markdown",
   "metadata": {},
   "source": [
    "Use the grid search results - best parameters for final Gradient Boosting model."
   ]
  },
  {
   "cell_type": "code",
   "execution_count": 93,
   "metadata": {
    "execution": {
     "iopub.execute_input": "2023-01-13T13:10:37.792448Z",
     "iopub.status.busy": "2023-01-13T13:10:37.792058Z",
     "iopub.status.idle": "2023-01-13T13:10:37.798848Z",
     "shell.execute_reply": "2023-01-13T13:10:37.797385Z",
     "shell.execute_reply.started": "2023-01-13T13:10:37.792422Z"
    }
   },
   "outputs": [],
   "source": [
    "GB_model = GradientBoostingClassifier(learning_rate=0.2,max_depth=7,max_features=None,n_estimators=200,random_state=42)"
   ]
  },
  {
   "cell_type": "markdown",
   "metadata": {},
   "source": [
    "# **Final Model Evaluation**"
   ]
  },
  {
   "cell_type": "markdown",
   "metadata": {},
   "source": [
    "**List all the final models we obtain from grid search above.**"
   ]
  },
  {
   "cell_type": "code",
   "execution_count": 94,
   "metadata": {
    "execution": {
     "iopub.execute_input": "2023-01-13T13:10:43.200097Z",
     "iopub.status.busy": "2023-01-13T13:10:43.198577Z",
     "iopub.status.idle": "2023-01-13T13:10:43.206221Z",
     "shell.execute_reply": "2023-01-13T13:10:43.204924Z",
     "shell.execute_reply.started": "2023-01-13T13:10:43.200019Z"
    }
   },
   "outputs": [],
   "source": [
    "models = [logreg_model, KNN_model, SVC_model, BNB_model, CNB_model, DTC_model,\n",
    "          RFC_model, Bagging_model, Adaboost_model, GB_model]"
   ]
  },
  {
   "cell_type": "code",
   "execution_count": 95,
   "metadata": {
    "execution": {
     "iopub.execute_input": "2023-01-13T13:10:44.804550Z",
     "iopub.status.busy": "2023-01-13T13:10:44.804144Z",
     "iopub.status.idle": "2023-01-13T13:10:44.809970Z",
     "shell.execute_reply": "2023-01-13T13:10:44.809303Z",
     "shell.execute_reply.started": "2023-01-13T13:10:44.804519Z"
    }
   },
   "outputs": [],
   "source": [
    "from sklearn.metrics import accuracy_score,f1_score, ConfusionMatrixDisplay,classification_report"
   ]
  },
  {
   "cell_type": "code",
   "execution_count": 96,
   "metadata": {
    "execution": {
     "iopub.execute_input": "2023-01-13T13:10:46.905515Z",
     "iopub.status.busy": "2023-01-13T13:10:46.903158Z",
     "iopub.status.idle": "2023-01-13T13:10:46.913448Z",
     "shell.execute_reply": "2023-01-13T13:10:46.910814Z",
     "shell.execute_reply.started": "2023-01-13T13:10:46.905417Z"
    }
   },
   "outputs": [],
   "source": [
    "accuracy_scores = []\n",
    "f1_scores = []"
   ]
  },
  {
   "cell_type": "code",
   "execution_count": 97,
   "metadata": {
    "execution": {
     "iopub.execute_input": "2023-01-13T13:11:07.037663Z",
     "iopub.status.busy": "2023-01-13T13:11:07.036763Z",
     "iopub.status.idle": "2023-01-13T13:36:34.248409Z",
     "shell.execute_reply": "2023-01-13T13:36:34.247192Z",
     "shell.execute_reply.started": "2023-01-13T13:11:07.037592Z"
    }
   },
   "outputs": [
    {
     "name": "stdout",
     "output_type": "stream",
     "text": [
      "LogisticRegression(C=0.1, class_weight='balanced', multi_class='multinomial',\n",
      "                   solver='sag')\n",
      "\n",
      "              precision    recall  f1-score   support\n",
      "\n",
      "    negative       0.89      0.79      0.84       889\n",
      "     neutral       0.52      0.71      0.60       313\n",
      "    positive       0.71      0.67      0.69       244\n",
      "\n",
      "    accuracy                           0.75      1446\n",
      "   macro avg       0.71      0.72      0.71      1446\n",
      "weighted avg       0.78      0.75      0.76      1446\n",
      "\n",
      "\n",
      "\n",
      "KNeighborsClassifier(algorithm='ball_tree', n_neighbors=12, weights='distance')\n",
      "\n",
      "              precision    recall  f1-score   support\n",
      "\n",
      "    negative       0.80      0.88      0.84       889\n",
      "     neutral       0.58      0.45      0.51       313\n",
      "    positive       0.67      0.60      0.63       244\n",
      "\n",
      "    accuracy                           0.74      1446\n",
      "   macro avg       0.68      0.64      0.66      1446\n",
      "weighted avg       0.73      0.74      0.73      1446\n",
      "\n",
      "\n",
      "\n",
      "SVC(C=1, class_weight='balanced', gamma=1, kernel='linear')\n",
      "\n",
      "              precision    recall  f1-score   support\n",
      "\n",
      "    negative       0.90      0.80      0.85       889\n",
      "     neutral       0.55      0.71      0.62       313\n",
      "    positive       0.71      0.71      0.71       244\n",
      "\n",
      "    accuracy                           0.77      1446\n",
      "   macro avg       0.72      0.74      0.73      1446\n",
      "weighted avg       0.79      0.77      0.77      1446\n",
      "\n",
      "\n",
      "\n",
      "BernoulliNB()\n",
      "\n",
      "              precision    recall  f1-score   support\n",
      "\n",
      "    negative       0.73      0.96      0.83       889\n",
      "     neutral       0.65      0.37      0.47       313\n",
      "    positive       0.80      0.32      0.45       244\n",
      "\n",
      "    accuracy                           0.73      1446\n",
      "   macro avg       0.73      0.55      0.58      1446\n",
      "weighted avg       0.73      0.73      0.69      1446\n",
      "\n",
      "\n",
      "\n",
      "ComplementNB()\n",
      "\n",
      "              precision    recall  f1-score   support\n",
      "\n",
      "    negative       0.80      0.95      0.87       889\n",
      "     neutral       0.69      0.39      0.50       313\n",
      "    positive       0.71      0.63      0.67       244\n",
      "\n",
      "    accuracy                           0.77      1446\n",
      "   macro avg       0.73      0.65      0.68      1446\n",
      "weighted avg       0.76      0.77      0.75      1446\n",
      "\n",
      "\n",
      "\n",
      "DecisionTreeClassifier(class_weight='balanced', random_state=42)\n",
      "\n",
      "              precision    recall  f1-score   support\n",
      "\n",
      "    negative       0.80      0.72      0.76       889\n",
      "     neutral       0.38      0.52      0.44       313\n",
      "    positive       0.62      0.58      0.60       244\n",
      "\n",
      "    accuracy                           0.65      1446\n",
      "   macro avg       0.60      0.60      0.60      1446\n",
      "weighted avg       0.68      0.65      0.66      1446\n",
      "\n",
      "\n",
      "\n",
      "RandomForestClassifier(class_weight='balanced', criterion='entropy',\n",
      "                       max_depth=15, max_features=None, n_estimators=400,\n",
      "                       random_state=42)\n",
      "\n",
      "              precision    recall  f1-score   support\n",
      "\n",
      "    negative       0.83      0.74      0.78       889\n",
      "     neutral       0.43      0.60      0.50       313\n",
      "    positive       0.70      0.59      0.64       244\n",
      "\n",
      "    accuracy                           0.69      1446\n",
      "   macro avg       0.65      0.64      0.64      1446\n",
      "weighted avg       0.72      0.69      0.70      1446\n",
      "\n",
      "\n",
      "\n",
      "BaggingClassifier(base_estimator=DecisionTreeClassifier(class_weight='balanced',\n",
      "                                                        random_state=42),\n",
      "                  n_estimators=300, random_state=42)\n",
      "\n",
      "              precision    recall  f1-score   support\n",
      "\n",
      "    negative       0.82      0.85      0.84       889\n",
      "     neutral       0.52      0.52      0.52       313\n",
      "    positive       0.69      0.60      0.64       244\n",
      "\n",
      "    accuracy                           0.74      1446\n",
      "   macro avg       0.68      0.66      0.67      1446\n",
      "weighted avg       0.73      0.74      0.74      1446\n",
      "\n",
      "\n",
      "\n",
      "AdaBoostClassifier(base_estimator=DecisionTreeClassifier(class_weight='balanced',\n",
      "                                                         random_state=42),\n",
      "                   learning_rate=0.1, n_estimators=100, random_state=42)\n",
      "\n",
      "              precision    recall  f1-score   support\n",
      "\n",
      "    negative       0.73      0.72      0.72       889\n",
      "     neutral       0.37      0.41      0.39       313\n",
      "    positive       0.43      0.40      0.41       244\n",
      "\n",
      "    accuracy                           0.60      1446\n",
      "   macro avg       0.51      0.51      0.51      1446\n",
      "weighted avg       0.60      0.60      0.60      1446\n",
      "\n",
      "\n",
      "\n",
      "GradientBoostingClassifier(learning_rate=0.2, max_depth=7, n_estimators=200,\n",
      "                           random_state=42)\n",
      "\n",
      "              precision    recall  f1-score   support\n",
      "\n",
      "    negative       0.80      0.92      0.86       889\n",
      "     neutral       0.63      0.46      0.53       313\n",
      "    positive       0.76      0.59      0.67       244\n",
      "\n",
      "    accuracy                           0.77      1446\n",
      "   macro avg       0.73      0.66      0.69      1446\n",
      "weighted avg       0.76      0.77      0.76      1446\n",
      "\n",
      "\n",
      "\n"
     ]
    },
    {
     "data": {
      "image/png": "[encoded data removed]",
      "text/plain": [
       "<Figure size 432x288 with 2 Axes>"
      ]
     },
     "metadata": {
      "needs_background": "light"
     },
     "output_type": "display_data"
    },
    {
     "data": {
      "image/png": "[encoded data removed]",
      "text/plain": [
       "<Figure size 432x288 with 2 Axes>"
      ]
     },
     "metadata": {
      "needs_background": "light"
     },
     "output_type": "display_data"
    },
    {
     "data": {
      "image/png": "[encoded data removed]",
      "text/plain": [
       "<Figure size 432x288 with 2 Axes>"
      ]
     },
     "metadata": {
      "needs_background": "light"
     },
     "output_type": "display_data"
    },
    {
     "data": {
      "image/png": "[encoded data removed]",
      "text/plain": [
       "<Figure size 432x288 with 2 Axes>"
      ]
     },
     "metadata": {
      "needs_background": "light"
     },
     "output_type": "display_data"
    },
    {
     "data": {
      "image/png": "[encoded data removed]",
      "text/plain": [
       "<Figure size 432x288 with 2 Axes>"
      ]
     },
     "metadata": {
      "needs_background": "light"
     },
     "output_type": "display_data"
    },
    {
     "data": {
      "image/png": "[encoded data removed]",
      "text/plain": [
       "<Figure size 432x288 with 2 Axes>"
      ]
     },
     "metadata": {
      "needs_background": "light"
     },
     "output_type": "display_data"
    },
    {
     "data": {
      "image/png": "[encoded data removed]",
      "text/plain": [
       "<Figure size 432x288 with 2 Axes>"
      ]
     },
     "metadata": {
      "needs_background": "light"
     },
     "output_type": "display_data"
    },
    {
     "data": {
      "image/png": "[encoded data removed]",
      "text/plain": [
       "<Figure size 432x288 with 2 Axes>"
      ]
     },
     "metadata": {
      "needs_background": "light"
     },
     "output_type": "display_data"
    },
    {
     "data": {
      "image/png": "[encoded data removed]",
      "text/plain": [
       "<Figure size 432x288 with 2 Axes>"
      ]
     },
     "metadata": {
      "needs_background": "light"
     },
     "output_type": "display_data"
    },
    {
     "data": {
      "image/png": "[encoded data removed]",
      "text/plain": [
       "<Figure size 432x288 with 2 Axes>"
      ]
     },
     "metadata": {
      "needs_background": "light"
     },
     "output_type": "display_data"
    }
   ],
   "source": [
    "for model in models:\n",
    "    model.fit(X_train, y_train)\n",
    "    y_pred = model.predict(X_test)\n",
    "    \n",
    "    acc = accuracy_score(y_test,y_pred)\n",
    "    accuracy_scores.append(acc)\n",
    "    \n",
    "    f1 = f1_score(y_test,y_pred,average='weighted')\n",
    "    f1_scores.append(f1)\n",
    "    \n",
    "    print(model)\n",
    "    print()\n",
    "    print(classification_report(y_test,y_pred,labels=model.classes_))\n",
    "    print()\n",
    "    ConfusionMatrixDisplay.from_predictions(y_test,y_pred,labels=model.classes_)\n",
    "    print()"
   ]
  },
  {
   "cell_type": "code",
   "execution_count": 98,
   "metadata": {
    "execution": {
     "iopub.execute_input": "2023-01-13T13:37:14.630326Z",
     "iopub.status.busy": "2023-01-13T13:37:14.629660Z",
     "iopub.status.idle": "2023-01-13T13:37:14.639283Z",
     "shell.execute_reply": "2023-01-13T13:37:14.637357Z",
     "shell.execute_reply.started": "2023-01-13T13:37:14.630290Z"
    }
   },
   "outputs": [
    {
     "data": {
      "text/plain": [
       "[0.7524204702627939,\n",
       " 0.7406639004149378,\n",
       " 0.7676348547717843,\n",
       " 0.7254495159059474,\n",
       " 0.7724757952973721,\n",
       " 0.6500691562932227,\n",
       " 0.686030428769018,\n",
       " 0.7378976486860305,\n",
       " 0.5982019363762102,\n",
       " 0.7690179806362379]"
      ]
     },
     "execution_count": 98,
     "metadata": {},
     "output_type": "execute_result"
    }
   ],
   "source": [
    "accuracy_scores"
   ]
  },
  {
   "cell_type": "code",
   "execution_count": 99,
   "metadata": {
    "execution": {
     "iopub.execute_input": "2023-01-13T13:37:17.564409Z",
     "iopub.status.busy": "2023-01-13T13:37:17.564052Z",
     "iopub.status.idle": "2023-01-13T13:37:17.573832Z",
     "shell.execute_reply": "2023-01-13T13:37:17.572108Z",
     "shell.execute_reply.started": "2023-01-13T13:37:17.564383Z"
    }
   },
   "outputs": [
    {
     "data": {
      "text/plain": [
       "[0.7606137202539621,\n",
       " 0.7310860343450013,\n",
       " 0.7749728757879148,\n",
       " 0.6890341245813203,\n",
       " 0.7528989966829184,\n",
       " 0.6610976741599717,\n",
       " 0.696720214801226,\n",
       " 0.7355508223614842,\n",
       " 0.5999801335900921,\n",
       " 0.7561888785552755]"
      ]
     },
     "execution_count": 99,
     "metadata": {},
     "output_type": "execute_result"
    }
   ],
   "source": [
    "f1_scores"
   ]
  },
  {
   "cell_type": "code",
   "execution_count": 100,
   "metadata": {
    "execution": {
     "iopub.execute_input": "2023-01-13T13:38:06.934553Z",
     "iopub.status.busy": "2023-01-13T13:38:06.933734Z",
     "iopub.status.idle": "2023-01-13T13:38:06.939813Z",
     "shell.execute_reply": "2023-01-13T13:38:06.937804Z",
     "shell.execute_reply.started": "2023-01-13T13:38:06.934514Z"
    }
   },
   "outputs": [],
   "source": [
    "clf_model = ['Logistic Regression', 'KNN', 'SVC', 'Bernoulli NB', 'Complement NB', 'Decision Tree',\n",
    "          'Random Forest', 'Bagging Tree', 'AdaBoost', 'Gradient Boosting']"
   ]
  },
  {
   "cell_type": "markdown",
   "metadata": {},
   "source": [
    "**Create a plot to visualize the model performance**"
   ]
  },
  {
   "cell_type": "code",
   "execution_count": 101,
   "metadata": {
    "execution": {
     "iopub.execute_input": "2023-01-13T13:38:11.112639Z",
     "iopub.status.busy": "2023-01-13T13:38:11.111503Z",
     "iopub.status.idle": "2023-01-13T13:38:11.312899Z",
     "shell.execute_reply": "2023-01-13T13:38:11.311534Z",
     "shell.execute_reply.started": "2023-01-13T13:38:11.112588Z"
    }
   },
   "outputs": [
    {
     "data": {
      "image/png": "[encoded data removed]",
      "text/plain": [
       "<Figure size 432x288 with 1 Axes>"
      ]
     },
     "metadata": {
      "needs_background": "light"
     },
     "output_type": "display_data"
    }
   ],
   "source": [
    "plt.plot(clf_model,accuracy_scores,label='Accuracy Score')\n",
    "plt.plot(clf_model,f1_scores,label='F1 Score')\n",
    "plt.xlabel('Model')\n",
    "plt.ylabel('Value')\n",
    "plt.title('Final Model Comparison')\n",
    "plt.legend()\n",
    "plt.xticks(rotation=90);"
   ]
  },
  {
   "cell_type": "markdown",
   "metadata": {},
   "source": [
    "**Because the class labels in dataset are unbalanced, so we use the f1 score to determine the best model.**"
   ]
  },
  {
   "cell_type": "markdown",
   "metadata": {},
   "source": [
    "# **CONCLUSION**"
   ]
  },
  {
   "cell_type": "markdown",
   "metadata": {},
   "source": [
    "After performing cross validation and hyper parameter tuning via grid search, also evaluating the final 10 models to unseen dataset, here are some conclusion.\n",
    "1. The best model is SVC (C=1, gamma=1, kernel='linear') with 76.8% accuracy and 77.5% f1 score.\n",
    "2. Decision Tree improves significantly after used on Bagging Classifier.\n",
    "3. Neutral is the hardest class label to predict accurately."
   ]
  },
  {
   "cell_type": "markdown",
   "metadata": {},
   "source": [
    "**Thank you for reading this notebook. Feel free to give some constructive advice or suggestion. I will really appreciate it.**"
   ]
  }
 ],
 "metadata": {
  "kernelspec": {
   "display_name": "Python 3 (ipykernel)",
   "language": "python",
   "name": "python3"
  },
  "language_info": {
   "codemirror_mode": {
    "name": "ipython",
    "version": 3
   },
   "file_extension": ".py",
   "mimetype": "text/x-python",
   "name": "python",
   "nbconvert_exporter": "python",
   "pygments_lexer": "ipython3",
   "version": "3.9.12"
  },
  "latex_envs": {
   "LaTeX_envs_menu_present": true,
   "autoclose": false,
   "autocomplete": true,
   "bibliofile": "biblio.bib",
   "cite_by": "apalike",
   "current_citInitial": 1,
   "eqLabelWithNumbers": true,
   "eqNumInitial": 1,
   "hotkeys": {
    "equation": "Ctrl-E",
    "itemize": "Ctrl-I"
   },
   "labels_anchors": false,
   "latex_user_defs": false,
   "report_style_numbering": false,
   "user_envs_cfg": false
  },
  "nbTranslate": {
   "displayLangs": [
    "*"
   ],
   "hotkey": "alt-t",
   "langInMainMenu": true,
   "sourceLang": "en",
   "targetLang": "fr",
   "useGoogleTranslate": true
  },
  "toc": {
   "base_numbering": 1,
   "nav_menu": {},
   "number_sections": true,
   "sideBar": true,
   "skip_h1_title": false,
   "title_cell": "Table of Contents",
   "title_sidebar": "Contents",
   "toc_cell": false,
   "toc_position": {},
   "toc_section_display": true,
   "toc_window_display": false
  },
  "varInspector": {
   "cols": {
    "lenName": 16,
    "lenType": 16,
    "lenVar": 40
   },
   "kernels_config": {
    "python": {
     "delete_cmd_postfix": "",
     "delete_cmd_prefix": "del ",
     "library": "var_list.py",
     "varRefreshCmd": "print(var_dic_list())"
    },
    "r": {
     "delete_cmd_postfix": ") ",
     "delete_cmd_prefix": "rm(",
     "library": "var_list.r",
     "varRefreshCmd": "cat(var_dic_list()) "
    }
   },
   "types_to_exclude": [
    "module",
    "function",
    "builtin_function_or_method",
    "instance",
    "_Feature"
   ],
   "window_display": false
  }
 },
 "nbformat": 4,
 "nbformat_minor": 4
}
